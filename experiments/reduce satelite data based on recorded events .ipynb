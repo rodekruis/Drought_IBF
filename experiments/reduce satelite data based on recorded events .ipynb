{
 "cells": [
  {
   "cell_type": "markdown",
   "metadata": {},
   "source": [
    "# reduce number of 'negatives' \n",
    "\n",
    "Satelite data ranges further than the event data. \n",
    "For every event, we only want to keep satelite data within ±N years around the reported date. \n",
    "First attempt, we use 1 year\n",
    "\n",
    "\n",
    "approach:\n",
    "    1. for every district \n",
    "    2. for every event in this district \n",
    "    3. check the year of this event \n",
    "    4. only keep satelite data for if year is within [year - dyear, year + dyear] (with dyear=1)\n",
    "    5. concatenate dataframes. Make sure to only keep the unique set of rows\n",
    "\n"
   ]
  },
  {
   "cell_type": "code",
   "execution_count": 62,
   "metadata": {},
   "outputs": [
    {
     "name": "stdout",
     "output_type": "stream",
     "text": [
      "119\n"
     ]
    }
   ],
   "source": [
    "print(len(districts_with_droughts[districts_with_droughts['drought_in_district']]['District'].unique()  ))"
   ]
  },
  {
   "cell_type": "code",
   "execution_count": 58,
   "metadata": {},
   "outputs": [
    {
     "name": "stdout",
     "output_type": "stream",
     "text": [
      "119\n"
     ]
    }
   ],
   "source": [
    "print(len(DroughtData[DroughtData['drought_reported']]['District'].unique()))"
   ]
  },
  {
   "cell_type": "code",
   "execution_count": 86,
   "metadata": {},
   "outputs": [
    {
     "data": {
      "text/html": [
       "<div>\n",
       "<style scoped>\n",
       "    .dataframe tbody tr th:only-of-type {\n",
       "        vertical-align: middle;\n",
       "    }\n",
       "\n",
       "    .dataframe tbody tr th {\n",
       "        vertical-align: top;\n",
       "    }\n",
       "\n",
       "    .dataframe thead th {\n",
       "        text-align: right;\n",
       "    }\n",
       "</style>\n",
       "<table border=\"1\" class=\"dataframe\">\n",
       "  <thead>\n",
       "    <tr style=\"text-align: right;\">\n",
       "      <th></th>\n",
       "      <th>NDVI</th>\n",
       "      <th>EVI</th>\n",
       "      <th>precipitation_per_hour_v1</th>\n",
       "      <th>precipitation_per_hour_v2</th>\n",
       "      <th>surface_temperature_daytime</th>\n",
       "      <th>surface_temperature_nighttime</th>\n",
       "      <th>evapotranspiration</th>\n",
       "      <th>rainfall</th>\n",
       "      <th>SoilMoisture00_10cm</th>\n",
       "      <th>SoilMoisture10_40cm</th>\n",
       "      <th>...</th>\n",
       "      <th>SPEI_3month</th>\n",
       "      <th>SPEI_4month</th>\n",
       "      <th>SPEI_5month</th>\n",
       "      <th>SPEI_6month</th>\n",
       "      <th>SPEI_7month</th>\n",
       "      <th>SPEI_8month</th>\n",
       "      <th>SPEI_9month</th>\n",
       "      <th>SPEI_10month</th>\n",
       "      <th>SPEI_11month</th>\n",
       "      <th>SPEI_12month</th>\n",
       "    </tr>\n",
       "  </thead>\n",
       "  <tbody>\n",
       "    <tr>\n",
       "      <td>0</td>\n",
       "      <td>-1.874641</td>\n",
       "      <td>-1.570809</td>\n",
       "      <td>-1.217134</td>\n",
       "      <td>-1.210825</td>\n",
       "      <td>1.914201</td>\n",
       "      <td>1.651377</td>\n",
       "      <td>-1.632338</td>\n",
       "      <td>-1.362386</td>\n",
       "      <td>-1.683524</td>\n",
       "      <td>-1.594857</td>\n",
       "      <td>...</td>\n",
       "      <td>NaN</td>\n",
       "      <td>NaN</td>\n",
       "      <td>NaN</td>\n",
       "      <td>NaN</td>\n",
       "      <td>NaN</td>\n",
       "      <td>NaN</td>\n",
       "      <td>NaN</td>\n",
       "      <td>NaN</td>\n",
       "      <td>NaN</td>\n",
       "      <td>NaN</td>\n",
       "    </tr>\n",
       "    <tr>\n",
       "      <td>1</td>\n",
       "      <td>-1.206775</td>\n",
       "      <td>-1.143460</td>\n",
       "      <td>0.554526</td>\n",
       "      <td>0.337322</td>\n",
       "      <td>1.068590</td>\n",
       "      <td>0.768848</td>\n",
       "      <td>0.343810</td>\n",
       "      <td>0.380445</td>\n",
       "      <td>-0.248744</td>\n",
       "      <td>-1.965811</td>\n",
       "      <td>...</td>\n",
       "      <td>NaN</td>\n",
       "      <td>NaN</td>\n",
       "      <td>NaN</td>\n",
       "      <td>NaN</td>\n",
       "      <td>NaN</td>\n",
       "      <td>NaN</td>\n",
       "      <td>NaN</td>\n",
       "      <td>NaN</td>\n",
       "      <td>NaN</td>\n",
       "      <td>NaN</td>\n",
       "    </tr>\n",
       "    <tr>\n",
       "      <td>2</td>\n",
       "      <td>0.544968</td>\n",
       "      <td>0.484206</td>\n",
       "      <td>0.726150</td>\n",
       "      <td>0.654021</td>\n",
       "      <td>-0.209722</td>\n",
       "      <td>0.109642</td>\n",
       "      <td>1.241335</td>\n",
       "      <td>1.416795</td>\n",
       "      <td>0.717814</td>\n",
       "      <td>0.108791</td>\n",
       "      <td>...</td>\n",
       "      <td>0.075238</td>\n",
       "      <td>NaN</td>\n",
       "      <td>NaN</td>\n",
       "      <td>NaN</td>\n",
       "      <td>NaN</td>\n",
       "      <td>NaN</td>\n",
       "      <td>NaN</td>\n",
       "      <td>NaN</td>\n",
       "      <td>NaN</td>\n",
       "      <td>NaN</td>\n",
       "    </tr>\n",
       "    <tr>\n",
       "      <td>3</td>\n",
       "      <td>0.853214</td>\n",
       "      <td>0.948032</td>\n",
       "      <td>0.974735</td>\n",
       "      <td>0.485003</td>\n",
       "      <td>-0.526822</td>\n",
       "      <td>-0.525072</td>\n",
       "      <td>0.585442</td>\n",
       "      <td>1.246105</td>\n",
       "      <td>0.707451</td>\n",
       "      <td>-0.143555</td>\n",
       "      <td>...</td>\n",
       "      <td>0.917779</td>\n",
       "      <td>0.711107</td>\n",
       "      <td>NaN</td>\n",
       "      <td>NaN</td>\n",
       "      <td>NaN</td>\n",
       "      <td>NaN</td>\n",
       "      <td>NaN</td>\n",
       "      <td>NaN</td>\n",
       "      <td>NaN</td>\n",
       "      <td>NaN</td>\n",
       "    </tr>\n",
       "    <tr>\n",
       "      <td>4</td>\n",
       "      <td>1.180418</td>\n",
       "      <td>1.321811</td>\n",
       "      <td>0.368088</td>\n",
       "      <td>-0.002803</td>\n",
       "      <td>-1.099682</td>\n",
       "      <td>-1.324882</td>\n",
       "      <td>0.660043</td>\n",
       "      <td>1.021191</td>\n",
       "      <td>1.218931</td>\n",
       "      <td>1.271444</td>\n",
       "      <td>...</td>\n",
       "      <td>1.070958</td>\n",
       "      <td>0.836407</td>\n",
       "      <td>0.635385</td>\n",
       "      <td>NaN</td>\n",
       "      <td>NaN</td>\n",
       "      <td>NaN</td>\n",
       "      <td>NaN</td>\n",
       "      <td>NaN</td>\n",
       "      <td>NaN</td>\n",
       "      <td>NaN</td>\n",
       "    </tr>\n",
       "  </tbody>\n",
       "</table>\n",
       "<p>5 rows × 39 columns</p>\n",
       "</div>"
      ],
      "text/plain": [
       "       NDVI       EVI  precipitation_per_hour_v1  precipitation_per_hour_v2  \\\n",
       "0 -1.874641 -1.570809                  -1.217134                  -1.210825   \n",
       "1 -1.206775 -1.143460                   0.554526                   0.337322   \n",
       "2  0.544968  0.484206                   0.726150                   0.654021   \n",
       "3  0.853214  0.948032                   0.974735                   0.485003   \n",
       "4  1.180418  1.321811                   0.368088                  -0.002803   \n",
       "\n",
       "   surface_temperature_daytime  surface_temperature_nighttime  \\\n",
       "0                     1.914201                       1.651377   \n",
       "1                     1.068590                       0.768848   \n",
       "2                    -0.209722                       0.109642   \n",
       "3                    -0.526822                      -0.525072   \n",
       "4                    -1.099682                      -1.324882   \n",
       "\n",
       "   evapotranspiration  rainfall  SoilMoisture00_10cm  SoilMoisture10_40cm  \\\n",
       "0           -1.632338 -1.362386            -1.683524            -1.594857   \n",
       "1            0.343810  0.380445            -0.248744            -1.965811   \n",
       "2            1.241335  1.416795             0.717814             0.108791   \n",
       "3            0.585442  1.246105             0.707451            -0.143555   \n",
       "4            0.660043  1.021191             1.218931             1.271444   \n",
       "\n",
       "   ...  SPEI_3month  SPEI_4month  SPEI_5month  SPEI_6month  SPEI_7month  \\\n",
       "0  ...          NaN          NaN          NaN          NaN          NaN   \n",
       "1  ...          NaN          NaN          NaN          NaN          NaN   \n",
       "2  ...     0.075238          NaN          NaN          NaN          NaN   \n",
       "3  ...     0.917779     0.711107          NaN          NaN          NaN   \n",
       "4  ...     1.070958     0.836407     0.635385          NaN          NaN   \n",
       "\n",
       "   SPEI_8month  SPEI_9month  SPEI_10month  SPEI_11month  SPEI_12month  \n",
       "0          NaN          NaN           NaN           NaN           NaN  \n",
       "1          NaN          NaN           NaN           NaN           NaN  \n",
       "2          NaN          NaN           NaN           NaN           NaN  \n",
       "3          NaN          NaN           NaN           NaN           NaN  \n",
       "4          NaN          NaN           NaN           NaN           NaN  \n",
       "\n",
       "[5 rows x 39 columns]"
      ]
     },
     "execution_count": 86,
     "metadata": {},
     "output_type": "execute_result"
    }
   ],
   "source": [
    "%matplotlib inline \n",
    "import matplotlib.pylab as plt \n",
    "import numpy as np \n",
    "import pandas as pd \n",
    "import seaborn as sns \n",
    "\n",
    "# --- read original data (not reduced yet, used Z-normed dataset from start) ---- \n",
    "DroughtData = pd.read_csv('datasets/Droughts_satelite_and_events_Znormed.csv')\n",
    "districts_with_droughts = pd.read_csv('datasets/districts_with_droughts_Uganda_Kenya.csv')\n",
    "DroughtData.head()"
   ]
  },
  {
   "cell_type": "markdown",
   "metadata": {},
   "source": [
    "## discrepancy between recorded statelite data and event data "
   ]
  },
  {
   "cell_type": "code",
   "execution_count": 21,
   "metadata": {
    "scrolled": true
   },
   "outputs": [
    {
     "name": "stdout",
     "output_type": "stream",
     "text": [
      "ABIM\n",
      "Google Earth Engine data recorded between 2000  and 2019\n",
      "events recorded in [2002 2003 2009 2011 2012 2013 2017 2019]\n",
      "\n",
      "\n",
      "ADJUMANI\n",
      "Google Earth Engine data recorded between 2000  and 2019\n",
      "events recorded in [2003]\n",
      "\n",
      "\n",
      "ALEBTONG\n",
      "Google Earth Engine data recorded between 2000  and 2019\n",
      "events recorded in [2002 2019]\n",
      "\n",
      "\n",
      "AMOLATAR\n",
      "Google Earth Engine data recorded between 2000  and 2019\n",
      "events recorded in [2011]\n",
      "\n",
      "\n",
      "AMUDAT\n",
      "Google Earth Engine data recorded between 2000  and 2019\n",
      "events recorded in [2003 2011 2017 2019]\n",
      "\n",
      "\n",
      "AMURIA\n",
      "Google Earth Engine data recorded between 2000  and 2019\n",
      "events recorded in [2009]\n",
      "\n",
      "\n",
      "AMURU\n",
      "Google Earth Engine data recorded between 2000  and 2019\n",
      "events recorded in [2017]\n",
      "\n",
      "\n",
      "ARUA\n",
      "Google Earth Engine data recorded between 2000  and 2019\n",
      "events recorded in [2003 2009 2011 2017]\n",
      "\n",
      "\n",
      "BUDAKA\n",
      "Google Earth Engine data recorded between 2000  and 2019\n",
      "events recorded in [2009]\n",
      "\n",
      "\n",
      "BUDUDA\n",
      "Google Earth Engine data recorded between 2000  and 2019\n",
      "events recorded in []\n",
      "\n",
      "\n",
      "BUGIRI\n",
      "Google Earth Engine data recorded between 2000  and 2019\n",
      "events recorded in []\n",
      "\n",
      "\n",
      "BUHWEJU\n",
      "Google Earth Engine data recorded between 2000  and 2019\n",
      "events recorded in []\n",
      "\n",
      "\n",
      "BUIKWE\n",
      "Google Earth Engine data recorded between 2000  and 2019\n",
      "events recorded in []\n",
      "\n",
      "\n",
      "BUKOMANSIMBI\n",
      "Google Earth Engine data recorded between 2000  and 2019\n",
      "events recorded in [2005 2009]\n",
      "\n",
      "\n",
      "BUKWO\n",
      "Google Earth Engine data recorded between 2000  and 2019\n",
      "events recorded in [2010 2019]\n",
      "\n",
      "\n",
      "BULAMBULI\n",
      "Google Earth Engine data recorded between 2000  and 2019\n",
      "events recorded in [2011 2017]\n",
      "\n",
      "\n",
      "BULIISA\n",
      "Google Earth Engine data recorded between 2000  and 2019\n",
      "events recorded in []\n",
      "\n",
      "\n",
      "BUNDIBUGYO\n",
      "Google Earth Engine data recorded between 2000  and 2019\n",
      "events recorded in [2014]\n",
      "\n",
      "\n",
      "BUNYANGABU\n",
      "Google Earth Engine data recorded between 2000  and 2019\n",
      "events recorded in []\n",
      "\n",
      "\n",
      "BUSHENYI\n",
      "Google Earth Engine data recorded between 2000  and 2019\n",
      "events recorded in [2004 2009 2010]\n",
      "\n",
      "\n",
      "BUSIA\n",
      "Google Earth Engine data recorded between 2000  and 2019\n",
      "events recorded in [2011]\n",
      "\n",
      "\n",
      "BUTALEJA\n",
      "Google Earth Engine data recorded between 2000  and 2019\n",
      "events recorded in []\n",
      "\n",
      "\n",
      "BUTAMBALA\n",
      "Google Earth Engine data recorded between 2000  and 2019\n",
      "events recorded in []\n",
      "\n",
      "\n",
      "BUTEBO\n",
      "Google Earth Engine data recorded between 2000  and 2019\n",
      "events recorded in []\n",
      "\n",
      "\n",
      "BUVUMA\n",
      "Google Earth Engine data recorded between 2000  and 2019\n",
      "events recorded in [2013]\n",
      "\n",
      "\n",
      "DOKOLO\n",
      "Google Earth Engine data recorded between 2000  and 2019\n",
      "events recorded in [2001 2009 2011 2018]\n",
      "\n",
      "\n",
      "GOMBA\n",
      "Google Earth Engine data recorded between 2000  and 2019\n",
      "events recorded in [2011]\n",
      "\n",
      "\n",
      "GULU\n",
      "Google Earth Engine data recorded between 2000  and 2019\n",
      "events recorded in [2017 2019]\n",
      "\n",
      "\n",
      "HOIMA\n",
      "Google Earth Engine data recorded between 2000  and 2019\n",
      "events recorded in []\n",
      "\n",
      "\n",
      "IBANDA\n",
      "Google Earth Engine data recorded between 2000  and 2019\n",
      "events recorded in [2009]\n",
      "\n",
      "\n",
      "IGANGA\n",
      "Google Earth Engine data recorded between 2000  and 2019\n",
      "events recorded in [2016]\n",
      "\n",
      "\n",
      "JINJA\n",
      "Google Earth Engine data recorded between 2000  and 2019\n",
      "events recorded in [2004 2017]\n",
      "\n",
      "\n",
      "KAABONG\n",
      "Google Earth Engine data recorded between 2000  and 2019\n",
      "events recorded in [2002 2003 2005 2011 2013 2015]\n",
      "\n",
      "\n",
      "KABALE\n",
      "Google Earth Engine data recorded between 2000  and 2019\n",
      "events recorded in [2017]\n",
      "\n",
      "\n",
      "KABERAMAIDO\n",
      "Google Earth Engine data recorded between 2000  and 2019\n",
      "events recorded in [2011 2016 2017]\n",
      "\n",
      "\n",
      "KAGADI\n",
      "Google Earth Engine data recorded between 2000  and 2019\n",
      "events recorded in []\n",
      "\n",
      "\n",
      "MOROTO\n",
      "Google Earth Engine data recorded between 2000  and 2019\n",
      "events recorded in [2002 2003 2005 2011 2013 2014 2015 2016]\n",
      "\n",
      "\n",
      "MOYO\n",
      "Google Earth Engine data recorded between 2000  and 2019\n",
      "events recorded in [2003 2011]\n",
      "\n",
      "\n",
      "MPIGI\n",
      "Google Earth Engine data recorded between 2000  and 2019\n",
      "events recorded in [2011]\n",
      "\n",
      "\n",
      "MUBENDE\n",
      "Google Earth Engine data recorded between 2000  and 2019\n",
      "events recorded in [2009 2011]\n",
      "\n",
      "\n",
      "MUKONO\n",
      "Google Earth Engine data recorded between 2000  and 2019\n",
      "events recorded in [2009]\n",
      "\n",
      "\n",
      "NAKAPIRIPIRIT\n",
      "Google Earth Engine data recorded between 2000  and 2019\n",
      "events recorded in [2002 2003 2011 2019]\n",
      "\n",
      "\n",
      "NAKASEKE\n",
      "Google Earth Engine data recorded between 2000  and 2019\n",
      "events recorded in [2011 2017]\n",
      "\n",
      "\n",
      "NAKASONGOLA\n",
      "Google Earth Engine data recorded between 2000  and 2019\n",
      "events recorded in [2002 2009 2011 2017]\n",
      "\n",
      "\n",
      "NAMAYINGO\n",
      "Google Earth Engine data recorded between 2000  and 2019\n",
      "events recorded in []\n",
      "\n",
      "\n",
      "NAMISINDWA\n",
      "Google Earth Engine data recorded between 2000  and 2019\n",
      "events recorded in []\n",
      "\n",
      "\n",
      "NAMUTUMBA\n",
      "Google Earth Engine data recorded between 2000  and 2019\n",
      "events recorded in [2016]\n",
      "\n",
      "\n",
      "NAPAK\n",
      "Google Earth Engine data recorded between 2000  and 2019\n",
      "events recorded in [2002 2003 2011 2015]\n",
      "\n",
      "\n",
      "NEBBI\n",
      "Google Earth Engine data recorded between 2000  and 2019\n",
      "events recorded in [2006 2009 2017]\n",
      "\n",
      "\n",
      "NGORA\n",
      "Google Earth Engine data recorded between 2000  and 2019\n",
      "events recorded in []\n",
      "\n",
      "\n",
      "NTUNGAMO\n",
      "Google Earth Engine data recorded between 2000  and 2019\n",
      "events recorded in [2012 2013 2015 2017]\n",
      "\n",
      "\n",
      "NWOYA\n",
      "Google Earth Engine data recorded between 2000  and 2019\n",
      "events recorded in []\n",
      "\n",
      "\n",
      "OMORO\n",
      "Google Earth Engine data recorded between 2000  and 2019\n",
      "events recorded in [2013 2016 2017 2019]\n",
      "\n",
      "\n",
      "OTUKE\n",
      "Google Earth Engine data recorded between 2000  and 2019\n",
      "events recorded in [2008 2009 2016]\n",
      "\n",
      "\n",
      "OYAM\n",
      "Google Earth Engine data recorded between 2000  and 2019\n",
      "events recorded in []\n",
      "\n",
      "\n",
      "PADER\n",
      "Google Earth Engine data recorded between 2000  and 2019\n",
      "events recorded in [2011 2019]\n",
      "\n",
      "\n",
      "PAKWACH\n",
      "Google Earth Engine data recorded between 2000  and 2019\n",
      "events recorded in []\n",
      "\n",
      "\n",
      "PALLISA\n",
      "Google Earth Engine data recorded between 2000  and 2019\n",
      "events recorded in [2003 2017]\n",
      "\n",
      "\n",
      "RAKAI\n",
      "Google Earth Engine data recorded between 2000  and 2019\n",
      "events recorded in [2003 2005 2009 2010 2011]\n",
      "\n",
      "\n",
      "RUBANDA\n",
      "Google Earth Engine data recorded between 2000  and 2019\n",
      "events recorded in []\n",
      "\n",
      "\n",
      "RUBIRIZI\n",
      "Google Earth Engine data recorded between 2000  and 2019\n",
      "events recorded in []\n",
      "\n",
      "\n",
      "RUKIGA\n",
      "Google Earth Engine data recorded between 2000  and 2019\n",
      "events recorded in []\n",
      "\n",
      "\n",
      "RUKUNGIRI\n",
      "Google Earth Engine data recorded between 2000  and 2019\n",
      "events recorded in []\n",
      "\n",
      "\n",
      "SERERE\n",
      "Google Earth Engine data recorded between 2000  and 2019\n",
      "events recorded in [2011 2019]\n",
      "\n",
      "\n",
      "SHEEMA\n",
      "Google Earth Engine data recorded between 2000  and 2019\n",
      "events recorded in []\n",
      "\n",
      "\n",
      "SIRONKO\n",
      "Google Earth Engine data recorded between 2000  and 2019\n",
      "events recorded in [2004 2013]\n",
      "\n",
      "\n",
      "SOROTI\n",
      "Google Earth Engine data recorded between 2000  and 2019\n",
      "events recorded in [2003 2007 2016]\n",
      "\n",
      "\n",
      "SSEMBABULE\n",
      "Google Earth Engine data recorded between 2000  and 2019\n",
      "events recorded in [2005 2009 2011]\n",
      "\n",
      "\n",
      "TORORO\n",
      "Google Earth Engine data recorded between 2000  and 2019\n",
      "events recorded in [2003 2009]\n",
      "\n",
      "\n",
      "WAKISO\n",
      "Google Earth Engine data recorded between 2000  and 2019\n",
      "events recorded in [2017]\n",
      "\n",
      "\n",
      "ZOMBO\n",
      "Google Earth Engine data recorded between 2000  and 2019\n",
      "events recorded in [2009 2011]\n",
      "\n",
      "\n",
      "KAKUMIRO\n",
      "Google Earth Engine data recorded between 2000  and 2019\n",
      "events recorded in []\n",
      "\n",
      "\n",
      "KALIRO\n",
      "Google Earth Engine data recorded between 2000  and 2019\n",
      "events recorded in []\n",
      "\n",
      "\n",
      "KALUNGU\n",
      "Google Earth Engine data recorded between 2000  and 2019\n",
      "events recorded in [2005 2009 2014]\n",
      "\n",
      "\n",
      "KAMPALA\n",
      "Google Earth Engine data recorded between 2000  and 2019\n",
      "events recorded in [2017 2019]\n",
      "\n",
      "\n",
      "KAMWENGE\n",
      "Google Earth Engine data recorded between 2000  and 2019\n",
      "events recorded in []\n",
      "\n",
      "\n",
      "KANUNGU\n",
      "Google Earth Engine data recorded between 2000  and 2019\n",
      "events recorded in []\n",
      "\n",
      "\n",
      "KAPCHORWA\n",
      "Google Earth Engine data recorded between 2000  and 2019\n",
      "events recorded in []\n",
      "\n",
      "\n",
      "KASESE\n",
      "Google Earth Engine data recorded between 2000  and 2019\n",
      "events recorded in [2000 2005 2014 2016]\n",
      "\n",
      "\n",
      "KATAKWI\n",
      "Google Earth Engine data recorded between 2000  and 2019\n",
      "events recorded in [2003 2009 2011 2016 2017]\n",
      "\n",
      "\n",
      "KIBAALE\n",
      "Google Earth Engine data recorded between 2000  and 2019\n",
      "events recorded in [2009]\n",
      "\n",
      "\n",
      "KIBOGA\n",
      "Google Earth Engine data recorded between 2000  and 2019\n",
      "events recorded in [2009 2011]\n",
      "\n",
      "\n",
      "KIBUKU\n",
      "Google Earth Engine data recorded between 2000  and 2019\n",
      "events recorded in []\n",
      "\n",
      "\n",
      "KIRUHURA\n",
      "Google Earth Engine data recorded between 2000  and 2019\n",
      "events recorded in [2011 2014]\n",
      "\n",
      "\n",
      "KISORO\n",
      "Google Earth Engine data recorded between 2000  and 2019\n",
      "events recorded in []\n",
      "\n",
      "\n",
      "KITGUM\n",
      "Google Earth Engine data recorded between 2000  and 2019\n",
      "events recorded in [2009]\n",
      "\n",
      "\n",
      "KOBOKO\n",
      "Google Earth Engine data recorded between 2000  and 2019\n",
      "events recorded in [2007 2009]\n",
      "\n",
      "\n",
      "KOLE\n",
      "Google Earth Engine data recorded between 2000  and 2019\n",
      "events recorded in []\n",
      "\n",
      "\n",
      "KUMI\n",
      "Google Earth Engine data recorded between 2000  and 2019\n",
      "events recorded in [2003 2011 2017]\n",
      "\n",
      "\n",
      "KWEEN\n",
      "Google Earth Engine data recorded between 2000  and 2019\n",
      "events recorded in []\n",
      "\n",
      "\n",
      "KYANKWANZI\n",
      "Google Earth Engine data recorded between 2000  and 2019\n",
      "events recorded in [2011]\n",
      "\n",
      "\n",
      "KYEGEGWA\n",
      "Google Earth Engine data recorded between 2000  and 2019\n",
      "events recorded in []\n",
      "\n",
      "\n",
      "KYENJOJO\n",
      "Google Earth Engine data recorded between 2000  and 2019\n",
      "events recorded in [2013]\n",
      "\n",
      "\n",
      "KYOTARA\n",
      "Google Earth Engine data recorded between 2000  and 2019\n",
      "events recorded in []\n",
      "\n",
      "\n",
      "LAMWO\n",
      "Google Earth Engine data recorded between 2000  and 2019\n",
      "events recorded in [2009 2011 2016 2019]\n",
      "\n",
      "\n",
      "LIRA\n",
      "Google Earth Engine data recorded between 2000  and 2019\n",
      "events recorded in [2009 2010 2011 2017]\n",
      "\n",
      "\n",
      "LUUKA\n",
      "Google Earth Engine data recorded between 2000  and 2019\n",
      "events recorded in [2017]\n",
      "\n",
      "\n",
      "LUWERO\n",
      "Google Earth Engine data recorded between 2000  and 2019\n",
      "events recorded in [2002]\n",
      "\n",
      "\n",
      "LWENGO\n",
      "Google Earth Engine data recorded between 2000  and 2019\n",
      "events recorded in [2005 2009 2014]\n",
      "\n",
      "\n",
      "LYANTONDE\n",
      "Google Earth Engine data recorded between 2000  and 2019\n",
      "events recorded in [2014 2016]\n",
      "\n",
      "\n",
      "MANAFWA\n",
      "Google Earth Engine data recorded between 2000  and 2019\n",
      "events recorded in []\n",
      "\n",
      "\n",
      "MARACHA\n",
      "Google Earth Engine data recorded between 2000  and 2019\n",
      "events recorded in [2009]\n",
      "\n",
      "\n",
      "MASAKA\n",
      "Google Earth Engine data recorded between 2000  and 2019\n",
      "events recorded in [2005 2009 2011 2014]\n",
      "\n",
      "\n",
      "MASINDI\n",
      "Google Earth Engine data recorded between 2000  and 2019\n",
      "events recorded in [2000]\n",
      "\n",
      "\n",
      "MBALE\n",
      "Google Earth Engine data recorded between 2000  and 2019\n",
      "events recorded in []\n",
      "\n",
      "\n",
      "MBARARA\n",
      "Google Earth Engine data recorded between 2000  and 2019\n",
      "events recorded in [2000 2004 2017]\n",
      "\n",
      "\n",
      "MITOOMA\n",
      "Google Earth Engine data recorded between 2000  and 2019\n",
      "events recorded in [2017]\n",
      "\n",
      "\n",
      "AGAGO\n",
      "Google Earth Engine data recorded between 2000  and 2019\n",
      "events recorded in []\n",
      "\n",
      "\n",
      "APAC\n",
      "Google Earth Engine data recorded between 2000  and 2019\n",
      "events recorded in [2019]\n",
      "\n",
      "\n",
      "KIRYANDONGO\n",
      "Google Earth Engine data recorded between 2000  and 2019\n",
      "events recorded in []\n",
      "\n",
      "\n",
      "KALANGALA\n",
      "Google Earth Engine data recorded between 2000  and 2019\n",
      "events recorded in []\n",
      "\n",
      "\n",
      "YUMBE\n"
     ]
    },
    {
     "name": "stdout",
     "output_type": "stream",
     "text": [
      "Google Earth Engine data recorded between 2000  and 2019\n",
      "events recorded in [2011]\n",
      "\n",
      "\n",
      "KABAROLE\n",
      "Google Earth Engine data recorded between 2000  and 2019\n",
      "events recorded in [2013]\n",
      "\n",
      "\n",
      "MITYANA\n",
      "Google Earth Engine data recorded between 2000  and 2019\n",
      "events recorded in [2017]\n",
      "\n",
      "\n",
      "ISINGIRO\n",
      "Google Earth Engine data recorded between 2000  and 2019\n",
      "events recorded in [2014 2015 2017]\n",
      "\n",
      "\n",
      "MAYUGE\n",
      "Google Earth Engine data recorded between 2000  and 2019\n",
      "events recorded in [2010]\n",
      "\n",
      "\n",
      "BUYENDE\n",
      "Google Earth Engine data recorded between 2000  and 2019\n",
      "events recorded in []\n",
      "\n",
      "\n",
      "KAYUNGA\n",
      "Google Earth Engine data recorded between 2000  and 2019\n",
      "events recorded in [2002 2006]\n",
      "\n",
      "\n",
      "NTOROKO\n",
      "Google Earth Engine data recorded between 2000  and 2019\n",
      "events recorded in [2012 2014]\n",
      "\n",
      "\n",
      "KOTIDO\n",
      "Google Earth Engine data recorded between 2000  and 2019\n",
      "events recorded in [2002 2003 2011]\n",
      "\n",
      "\n",
      "KAMULI\n",
      "Google Earth Engine data recorded between 2000  and 2019\n",
      "events recorded in []\n",
      "\n",
      "\n",
      "BUKEDEA\n",
      "Google Earth Engine data recorded between 2000  and 2019\n",
      "events recorded in [2011]\n",
      "\n",
      "\n",
      "Kwale\n",
      "Google Earth Engine data recorded between 2000  and 2019\n",
      "events recorded in [2009 2011]\n",
      "\n",
      "\n",
      "Laikipia\n",
      "Google Earth Engine data recorded between 2000  and 2019\n",
      "events recorded in [2009 2011]\n",
      "\n",
      "\n",
      "Lamu\n",
      "Google Earth Engine data recorded between 2000  and 2019\n",
      "events recorded in [2009 2011]\n",
      "\n",
      "\n",
      "Machakos\n",
      "Google Earth Engine data recorded between 2000  and 2019\n",
      "events recorded in [2009 2010 2011 2012]\n",
      "\n",
      "\n",
      "Makueni\n",
      "Google Earth Engine data recorded between 2000  and 2019\n",
      "events recorded in [2009 2010 2011 2012]\n",
      "\n",
      "\n",
      "Mandera\n",
      "Google Earth Engine data recorded between 2000  and 2019\n",
      "events recorded in [2009 2011]\n",
      "\n",
      "\n",
      "Marsabit\n",
      "Google Earth Engine data recorded between 2000  and 2019\n",
      "events recorded in [2009 2011]\n",
      "\n",
      "\n",
      "Meru\n",
      "Google Earth Engine data recorded between 2000  and 2019\n",
      "events recorded in [2009 2011]\n",
      "\n",
      "\n",
      "Migori\n",
      "Google Earth Engine data recorded between 2000  and 2019\n",
      "events recorded in [2011]\n",
      "\n",
      "\n",
      "Mombasa\n",
      "Google Earth Engine data recorded between 2000  and 2019\n",
      "events recorded in [2009 2011]\n",
      "\n",
      "\n",
      "Nairobi\n",
      "Google Earth Engine data recorded between 2000  and 2019\n",
      "events recorded in [2009]\n",
      "\n",
      "\n",
      "Nakuru\n",
      "Google Earth Engine data recorded between 2000  and 2019\n",
      "events recorded in [2009 2011]\n",
      "\n",
      "\n",
      "Baringo\n",
      "Google Earth Engine data recorded between 2000  and 2019\n",
      "events recorded in [2009 2011]\n",
      "\n",
      "\n",
      "Bomet\n",
      "Google Earth Engine data recorded between 2000  and 2019\n",
      "events recorded in []\n",
      "\n",
      "\n",
      "Bungoma\n",
      "Google Earth Engine data recorded between 2000  and 2019\n",
      "events recorded in [2009 2011]\n",
      "\n",
      "\n",
      "Busia\n",
      "Google Earth Engine data recorded between 2000  and 2019\n",
      "events recorded in [2011]\n",
      "\n",
      "\n",
      "Elgeyo-Marakwet\n",
      "Google Earth Engine data recorded between 2000  and 2019\n",
      "events recorded in []\n",
      "\n",
      "\n",
      "Embu\n",
      "Google Earth Engine data recorded between 2000  and 2019\n",
      "events recorded in [2009 2011]\n",
      "\n",
      "\n",
      "Garissa\n",
      "Google Earth Engine data recorded between 2000  and 2019\n",
      "events recorded in [2009 2010 2011]\n",
      "\n",
      "\n",
      "Homa Bay\n",
      "Google Earth Engine data recorded between 2000  and 2019\n",
      "events recorded in []\n",
      "\n",
      "\n",
      "Isiolo\n",
      "Google Earth Engine data recorded between 2000  and 2019\n",
      "events recorded in [2009 2011]\n",
      "\n",
      "\n",
      "Kajiado\n",
      "Google Earth Engine data recorded between 2000  and 2019\n",
      "events recorded in [2009 2011 2012]\n",
      "\n",
      "\n",
      "Kakamega\n",
      "Google Earth Engine data recorded between 2000  and 2019\n",
      "events recorded in [2008 2009]\n",
      "\n",
      "\n",
      "Kericho\n",
      "Google Earth Engine data recorded between 2000  and 2019\n",
      "events recorded in []\n",
      "\n",
      "\n",
      "Kiambu\n",
      "Google Earth Engine data recorded between 2000  and 2019\n",
      "events recorded in [2009 2010 2011 2012]\n",
      "\n",
      "\n",
      "Kilifi\n",
      "Google Earth Engine data recorded between 2000  and 2019\n",
      "events recorded in [2009 2010 2011]\n",
      "\n",
      "\n",
      "Kirinyaga\n",
      "Google Earth Engine data recorded between 2000  and 2019\n",
      "events recorded in [2009 2011 2012]\n",
      "\n",
      "\n",
      "Kisii\n",
      "Google Earth Engine data recorded between 2000  and 2019\n",
      "events recorded in [2009]\n",
      "\n",
      "\n",
      "Kisumu\n",
      "Google Earth Engine data recorded between 2000  and 2019\n",
      "events recorded in [2009 2011]\n",
      "\n",
      "\n",
      "Kitui\n",
      "Google Earth Engine data recorded between 2000  and 2019\n",
      "events recorded in [2009 2010 2011]\n",
      "\n",
      "\n",
      "Nandi\n",
      "Google Earth Engine data recorded between 2000  and 2019\n",
      "events recorded in []\n",
      "\n",
      "\n",
      "Narok\n",
      "Google Earth Engine data recorded between 2000  and 2019\n",
      "events recorded in [2009 2011]\n",
      "\n",
      "\n",
      "Nyamira\n",
      "Google Earth Engine data recorded between 2000  and 2019\n",
      "events recorded in [2009]\n",
      "\n",
      "\n",
      "Nyandarua\n",
      "Google Earth Engine data recorded between 2000  and 2019\n",
      "events recorded in [2009 2010 2011]\n",
      "\n",
      "\n",
      "Nyeri\n",
      "Google Earth Engine data recorded between 2000  and 2019\n",
      "events recorded in [2009 2010 2011]\n",
      "\n",
      "\n",
      "Samburu\n",
      "Google Earth Engine data recorded between 2000  and 2019\n",
      "events recorded in [2009 2011]\n",
      "\n",
      "\n",
      "Siaya\n",
      "Google Earth Engine data recorded between 2000  and 2019\n",
      "events recorded in [2011]\n",
      "\n",
      "\n",
      "Taita Taveta\n",
      "Google Earth Engine data recorded between 2000  and 2019\n",
      "events recorded in []\n",
      "\n",
      "\n",
      "Tana River\n",
      "Google Earth Engine data recorded between 2000  and 2019\n",
      "events recorded in []\n",
      "\n",
      "\n",
      "Tharaka-Nithi\n",
      "Google Earth Engine data recorded between 2000  and 2019\n",
      "events recorded in [2009 2011]\n",
      "\n",
      "\n",
      "Trans Nzoia\n",
      "Google Earth Engine data recorded between 2000  and 2019\n",
      "events recorded in []\n",
      "\n",
      "\n",
      "Turkana\n",
      "Google Earth Engine data recorded between 2000  and 2019\n",
      "events recorded in [2009 2011]\n",
      "\n",
      "\n",
      "Uasin Gishu\n",
      "Google Earth Engine data recorded between 2000  and 2019\n",
      "events recorded in []\n",
      "\n",
      "\n",
      "Vihiga\n",
      "Google Earth Engine data recorded between 2000  and 2019\n",
      "events recorded in [2011 2012]\n",
      "\n",
      "\n",
      "Wajir\n",
      "Google Earth Engine data recorded between 2000  and 2019\n",
      "events recorded in [2009 2011]\n",
      "\n",
      "\n",
      "West Pokot\n",
      "Google Earth Engine data recorded between 2000  and 2019\n",
      "events recorded in [2009 2011]\n",
      "\n",
      "\n",
      "Murang'a\n",
      "Google Earth Engine data recorded between 2000  and 2019\n",
      "events recorded in []\n",
      "\n",
      "\n"
     ]
    }
   ],
   "source": [
    "for district in DroughtData['District'].unique():\n",
    "    group = DroughtData[DroughtData['District']==district]\n",
    "    \n",
    "    print(district)\n",
    "    print('Google Earth Engine data recorded between',group.year.min(), ' and', group.year.max())\n",
    "    print('events recorded in',group[group.drought_reported].year.unique())\n",
    "    print('\\n')"
   ]
  },
  {
   "cell_type": "markdown",
   "metadata": {},
   "source": [
    "# determine rows you want to keep "
   ]
  },
  {
   "cell_type": "code",
   "execution_count": 82,
   "metadata": {
    "scrolled": false
   },
   "outputs": [
    {
     "name": "stdout",
     "output_type": "stream",
     "text": [
      "length original data:  39532\n",
      "length reduced data:  7871\n"
     ]
    }
   ],
   "source": [
    "def rows_to_keep(data, event_index, district, keep_years=1):\n",
    "    '''\n",
    "    given the row of full dataframe containing the event, return the rows you want to keep\n",
    "    '''\n",
    "    event_year = data.iloc[event_index]['year']\n",
    "    DistrictData = data[data['District']==district]    \n",
    "    KeepData = DistrictData[ (DistrictData['year'] >= (event_year - keep_years)) &\n",
    "                           (DistrictData['year'] <= (event_year + keep_years))]\n",
    "        \n",
    "    return list(KeepData.index)\n",
    "    \n",
    "\n",
    "    \n",
    "# --- loop over all districts that have a drought recorded ---- \n",
    "keepsies = []\n",
    "for district in districts_with_droughts[districts_with_droughts['drought_in_district']]['District']:    \n",
    "    group = DroughtData[DroughtData['District']==district]\n",
    "    \n",
    "    # -- loop over recorded events for this district ---- \n",
    "    for event_index in group[group['drought_reported']].index:\n",
    "        to_keep = rows_to_keep(data=DroughtData, event_index=event_index, district=district)\n",
    "        keepsies += to_keep\n",
    "    \n",
    "    \n",
    "# --- only need unique set of rows (rows may be kept due to multiple drought events) ---- \n",
    "keepsies = np.unique(keepsies)\n",
    "    \n",
    "reduced_data = DroughtData.iloc[keepsies]\n",
    "reduced_data.to_csv('datasets/Droughts_satelite_and_events_Znormed_ReducedNegatives.csv',index=False)\n",
    "\n",
    "\n",
    "print('length original data: ', len(DroughtData))\n",
    "print('length reduced data: ', len(reduced_data))\n",
    "\n",
    "\n",
    "\n",
    "\n",
    "    \n",
    "    \n",
    "# keepsies = rows_to_keep(data=DroughtData, \n",
    "#                        event_index=22,\n",
    "#                        district='ABIM')\n",
    "\n",
    "\n",
    "# print(keepsies)\n",
    "\n",
    "# DroughtData.iloc[keepsies][['year','drought_reported']]"
   ]
  },
  {
   "cell_type": "markdown",
   "metadata": {},
   "source": [
    "# Did correlation improve ? "
   ]
  },
  {
   "cell_type": "code",
   "execution_count": 87,
   "metadata": {
    "scrolled": false
   },
   "outputs": [
    {
     "name": "stderr",
     "output_type": "stream",
     "text": [
      "/Users/mklein1/anaconda3/lib/python3.7/site-packages/ipykernel_launcher.py:4: RuntimeWarning: More than 20 figures have been opened. Figures created through the pyplot interface (`matplotlib.pyplot.figure`) are retained until explicitly closed and may consume too much memory. (To control this warning, see the rcParam `figure.max_open_warning`).\n",
      "  after removing the cwd from sys.path.\n",
      "/Users/mklein1/anaconda3/lib/python3.7/site-packages/ipykernel_launcher.py:4: RuntimeWarning: More than 20 figures have been opened. Figures created through the pyplot interface (`matplotlib.pyplot.figure`) are retained until explicitly closed and may consume too much memory. (To control this warning, see the rcParam `figure.max_open_warning`).\n",
      "  after removing the cwd from sys.path.\n",
      "/Users/mklein1/anaconda3/lib/python3.7/site-packages/ipykernel_launcher.py:4: RuntimeWarning: More than 20 figures have been opened. Figures created through the pyplot interface (`matplotlib.pyplot.figure`) are retained until explicitly closed and may consume too much memory. (To control this warning, see the rcParam `figure.max_open_warning`).\n",
      "  after removing the cwd from sys.path.\n",
      "/Users/mklein1/anaconda3/lib/python3.7/site-packages/ipykernel_launcher.py:4: RuntimeWarning: More than 20 figures have been opened. Figures created through the pyplot interface (`matplotlib.pyplot.figure`) are retained until explicitly closed and may consume too much memory. (To control this warning, see the rcParam `figure.max_open_warning`).\n",
      "  after removing the cwd from sys.path.\n",
      "/Users/mklein1/anaconda3/lib/python3.7/site-packages/ipykernel_launcher.py:4: RuntimeWarning: More than 20 figures have been opened. Figures created through the pyplot interface (`matplotlib.pyplot.figure`) are retained until explicitly closed and may consume too much memory. (To control this warning, see the rcParam `figure.max_open_warning`).\n",
      "  after removing the cwd from sys.path.\n",
      "/Users/mklein1/anaconda3/lib/python3.7/site-packages/ipykernel_launcher.py:4: RuntimeWarning: More than 20 figures have been opened. Figures created through the pyplot interface (`matplotlib.pyplot.figure`) are retained until explicitly closed and may consume too much memory. (To control this warning, see the rcParam `figure.max_open_warning`).\n",
      "  after removing the cwd from sys.path.\n",
      "/Users/mklein1/anaconda3/lib/python3.7/site-packages/ipykernel_launcher.py:4: RuntimeWarning: More than 20 figures have been opened. Figures created through the pyplot interface (`matplotlib.pyplot.figure`) are retained until explicitly closed and may consume too much memory. (To control this warning, see the rcParam `figure.max_open_warning`).\n",
      "  after removing the cwd from sys.path.\n",
      "/Users/mklein1/anaconda3/lib/python3.7/site-packages/ipykernel_launcher.py:4: RuntimeWarning: More than 20 figures have been opened. Figures created through the pyplot interface (`matplotlib.pyplot.figure`) are retained until explicitly closed and may consume too much memory. (To control this warning, see the rcParam `figure.max_open_warning`).\n",
      "  after removing the cwd from sys.path.\n",
      "/Users/mklein1/anaconda3/lib/python3.7/site-packages/ipykernel_launcher.py:4: RuntimeWarning: More than 20 figures have been opened. Figures created through the pyplot interface (`matplotlib.pyplot.figure`) are retained until explicitly closed and may consume too much memory. (To control this warning, see the rcParam `figure.max_open_warning`).\n",
      "  after removing the cwd from sys.path.\n",
      "/Users/mklein1/anaconda3/lib/python3.7/site-packages/ipykernel_launcher.py:4: RuntimeWarning: More than 20 figures have been opened. Figures created through the pyplot interface (`matplotlib.pyplot.figure`) are retained until explicitly closed and may consume too much memory. (To control this warning, see the rcParam `figure.max_open_warning`).\n",
      "  after removing the cwd from sys.path.\n",
      "/Users/mklein1/anaconda3/lib/python3.7/site-packages/ipykernel_launcher.py:4: RuntimeWarning: More than 20 figures have been opened. Figures created through the pyplot interface (`matplotlib.pyplot.figure`) are retained until explicitly closed and may consume too much memory. (To control this warning, see the rcParam `figure.max_open_warning`).\n",
      "  after removing the cwd from sys.path.\n",
      "/Users/mklein1/anaconda3/lib/python3.7/site-packages/ipykernel_launcher.py:4: RuntimeWarning: More than 20 figures have been opened. Figures created through the pyplot interface (`matplotlib.pyplot.figure`) are retained until explicitly closed and may consume too much memory. (To control this warning, see the rcParam `figure.max_open_warning`).\n",
      "  after removing the cwd from sys.path.\n",
      "/Users/mklein1/anaconda3/lib/python3.7/site-packages/ipykernel_launcher.py:4: RuntimeWarning: More than 20 figures have been opened. Figures created through the pyplot interface (`matplotlib.pyplot.figure`) are retained until explicitly closed and may consume too much memory. (To control this warning, see the rcParam `figure.max_open_warning`).\n",
      "  after removing the cwd from sys.path.\n"
     ]
    },
    {
     "data": {
      "image/png": "[encoded data removed]",
      "text/plain": [
       "<Figure size 432x288 with 1 Axes>"
      ]
     },
     "metadata": {
      "needs_background": "light"
     },
     "output_type": "display_data"
    },
    {
     "data": {
      "image/png": "[encoded data removed]",
      "text/plain": [
       "<Figure size 432x288 with 1 Axes>"
      ]
     },
     "metadata": {
      "needs_background": "light"
     },
     "output_type": "display_data"
    },
    {
     "data": {
      "image/png": "[encoded data removed]",
      "text/plain": [
       "<Figure size 432x288 with 1 Axes>"
      ]
     },
     "metadata": {
      "needs_background": "light"
     },
     "output_type": "display_data"
    },
    {
     "data": {
      "image/png": "[encoded data removed]",
      "text/plain": [
       "<Figure size 432x288 with 1 Axes>"
      ]
     },
     "metadata": {
      "needs_background": "light"
     },
     "output_type": "display_data"
    },
    {
     "data": {
      "image/png": "[encoded data removed]",
      "text/plain": [
       "<Figure size 432x288 with 1 Axes>"
      ]
     },
     "metadata": {
      "needs_background": "light"
     },
     "output_type": "display_data"
    },
    {
     "data": {
      "image/png": "[encoded data removed]",
      "text/plain": [
       "<Figure size 432x288 with 1 Axes>"
      ]
     },
     "metadata": {
      "needs_background": "light"
     },
     "output_type": "display_data"
    },
    {
     "data": {
      "image/png": "[encoded data removed]",
      "text/plain": [
       "<Figure size 432x288 with 1 Axes>"
      ]
     },
     "metadata": {
      "needs_background": "light"
     },
     "output_type": "display_data"
    },
    {
     "data": {
      "image/png": "[encoded data removed]",
      "text/plain": [
       "<Figure size 432x288 with 1 Axes>"
      ]
     },
     "metadata": {
      "needs_background": "light"
     },
     "output_type": "display_data"
    },
    {
     "data": {
      "image/png": "[encoded data removed]",
      "text/plain": [
       "<Figure size 432x288 with 1 Axes>"
      ]
     },
     "metadata": {
      "needs_background": "light"
     },
     "output_type": "display_data"
    },
    {
     "data": {
      "image/png": "[encoded data removed]",
      "text/plain": [
       "<Figure size 432x288 with 1 Axes>"
      ]
     },
     "metadata": {
      "needs_background": "light"
     },
     "output_type": "display_data"
    },
    {
     "data": {
      "image/png": "[encoded data removed]",
      "text/plain": [
       "<Figure size 432x288 with 1 Axes>"
      ]
     },
     "metadata": {
      "needs_background": "light"
     },
     "output_type": "display_data"
    },
    {
     "data": {
      "image/png": "[encoded data removed]",
      "text/plain": [
       "<Figure size 432x288 with 1 Axes>"
      ]
     },
     "metadata": {
      "needs_background": "light"
     },
     "output_type": "display_data"
    },
    {
     "data": {
      "image/png": "[encoded data removed]",
      "text/plain": [
       "<Figure size 432x288 with 1 Axes>"
      ]
     },
     "metadata": {
      "needs_background": "light"
     },
     "output_type": "display_data"
    },
    {
     "data": {
      "image/png": "[encoded data removed]",
      "text/plain": [
       "<Figure size 432x288 with 1 Axes>"
      ]
     },
     "metadata": {
      "needs_background": "light"
     },
     "output_type": "display_data"
    },
    {
     "data": {
      "image/png": "[encoded data removed]",
      "text/plain": [
       "<Figure size 432x288 with 1 Axes>"
      ]
     },
     "metadata": {
      "needs_background": "light"
     },
     "output_type": "display_data"
    },
    {
     "data": {
      "image/png": "[encoded data removed]",
      "text/plain": [
       "<Figure size 432x288 with 1 Axes>"
      ]
     },
     "metadata": {
      "needs_background": "light"
     },
     "output_type": "display_data"
    },
    {
     "data": {
      "image/png": "[encoded data removed]",
      "text/plain": [
       "<Figure size 432x288 with 1 Axes>"
      ]
     },
     "metadata": {
      "needs_background": "light"
     },
     "output_type": "display_data"
    },
    {
     "data": {
      "image/png": "[encoded data removed]",
      "text/plain": [
       "<Figure size 432x288 with 1 Axes>"
      ]
     },
     "metadata": {
      "needs_background": "light"
     },
     "output_type": "display_data"
    },
    {
     "data": {
      "image/png": "[encoded data removed]",
      "text/plain": [
       "<Figure size 432x288 with 1 Axes>"
      ]
     },
     "metadata": {
      "needs_background": "light"
     },
     "output_type": "display_data"
    },
    {
     "data": {
      "image/png": "[encoded data removed]",
      "text/plain": [
       "<Figure size 432x288 with 1 Axes>"
      ]
     },
     "metadata": {
      "needs_background": "light"
     },
     "output_type": "display_data"
    },
    {
     "data": {
      "image/png": "[encoded data removed]",
      "text/plain": [
       "<Figure size 432x288 with 1 Axes>"
      ]
     },
     "metadata": {
      "needs_background": "light"
     },
     "output_type": "display_data"
    },
    {
     "data": {
      "image/png": "[encoded data removed]",
      "text/plain": [
       "<Figure size 432x288 with 1 Axes>"
      ]
     },
     "metadata": {
      "needs_background": "light"
     },
     "output_type": "display_data"
    },
    {
     "data": {
      "image/png": "[encoded data removed]",
      "text/plain": [
       "<Figure size 432x288 with 1 Axes>"
      ]
     },
     "metadata": {
      "needs_background": "light"
     },
     "output_type": "display_data"
    },
    {
     "data": {
      "image/png": "[encoded data removed]",
      "text/plain": [
       "<Figure size 432x288 with 1 Axes>"
      ]
     },
     "metadata": {
      "needs_background": "light"
     },
     "output_type": "display_data"
    },
    {
     "data": {
      "image/png": "[encoded data removed]",
      "text/plain": [
       "<Figure size 432x288 with 1 Axes>"
      ]
     },
     "metadata": {
      "needs_background": "light"
     },
     "output_type": "display_data"
    },
    {
     "data": {
      "image/png": "[encoded data removed]",
      "text/plain": [
       "<Figure size 432x288 with 1 Axes>"
      ]
     },
     "metadata": {
      "needs_background": "light"
     },
     "output_type": "display_data"
    },
    {
     "data": {
      "image/png": "[encoded data removed]",
      "text/plain": [
       "<Figure size 432x288 with 1 Axes>"
      ]
     },
     "metadata": {
      "needs_background": "light"
     },
     "output_type": "display_data"
    },
    {
     "data": {
      "image/png": "[encoded data removed]",
      "text/plain": [
       "<Figure size 432x288 with 1 Axes>"
      ]
     },
     "metadata": {
      "needs_background": "light"
     },
     "output_type": "display_data"
    },
    {
     "data": {
      "image/png": "[encoded data removed]",
      "text/plain": [
       "<Figure size 432x288 with 1 Axes>"
      ]
     },
     "metadata": {
      "needs_background": "light"
     },
     "output_type": "display_data"
    },
    {
     "data": {
      "image/png": "[encoded data removed]",
      "text/plain": [
       "<Figure size 432x288 with 1 Axes>"
      ]
     },
     "metadata": {
      "needs_background": "light"
     },
     "output_type": "display_data"
    },
    {
     "data": {
      "image/png": "[encoded data removed]",
      "text/plain": [
       "<Figure size 432x288 with 1 Axes>"
      ]
     },
     "metadata": {
      "needs_background": "light"
     },
     "output_type": "display_data"
    },
    {
     "data": {
      "image/png": "[encoded data removed]",
      "text/plain": [
       "<Figure size 432x288 with 1 Axes>"
      ]
     },
     "metadata": {
      "needs_background": "light"
     },
     "output_type": "display_data"
    },
    {
     "data": {
      "image/png": "[encoded data removed]",
      "text/plain": [
       "<Figure size 432x288 with 1 Axes>"
      ]
     },
     "metadata": {
      "needs_background": "light"
     },
     "output_type": "display_data"
    }
   ],
   "source": [
    "indicators = list(reduced_data.columns.drop(['Country','District','date','day','month','year']))\n",
    "\n",
    "for var in indicators:\n",
    "    plt.figure()\n",
    "    sns.boxplot(x='drought_reported',y=var,data=reduced_data);\n",
    "    plt.xlabel('drought reported', fontsize=12,color='black')\n",
    "    plt.ylabel(var, fontsize=12, color=\"black\")\n",
    "    plt.xticks(rotation=0,fontsize=12, color=\"black\")\n",
    "    plt.yticks(fontsize=12, color=\"black\");\n",
    "    sns.despine();"
   ]
  },
  {
   "cell_type": "code",
   "execution_count": 31,
   "metadata": {},
   "outputs": [
    {
     "data": {
      "text/plain": [
       "22    2002\n",
       "41    2003\n",
       "Name: year, dtype: int64"
      ]
     },
     "execution_count": 31,
     "metadata": {},
     "output_type": "execute_result"
    }
   ],
   "source": [
    "DroughtData.iloc[[22,41]]"
   ]
  },
  {
   "cell_type": "code",
   "execution_count": null,
   "metadata": {},
   "outputs": [],
   "source": []
  }
 ],
 "metadata": {
  "kernelspec": {
   "display_name": "Python 3",
   "language": "python",
   "name": "python3"
  },
  "language_info": {
   "codemirror_mode": {
    "name": "ipython",
    "version": 3
   },
   "file_extension": ".py",
   "mimetype": "text/x-python",
   "name": "python",
   "nbconvert_exporter": "python",
   "pygments_lexer": "ipython3",
   "version": "3.7.4"
  }
 },
 "nbformat": 4,
 "nbformat_minor": 2
}

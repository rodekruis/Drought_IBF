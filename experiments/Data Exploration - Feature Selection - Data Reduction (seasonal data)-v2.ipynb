{
 "cells": [
  {
   "cell_type": "code",
   "execution_count": 1,
   "metadata": {},
   "outputs": [],
   "source": [
    "%matplotlib inline \n",
    "import matplotlib.pylab as plt \n",
    "import numpy as np \n",
    "import pandas as pd \n",
    "import seaborn as sns "
   ]
  },
  {
   "cell_type": "code",
   "execution_count": 2,
   "metadata": {},
   "outputs": [
    {
     "data": {
      "text/html": [
       "<div>\n",
       "<style scoped>\n",
       "    .dataframe tbody tr th:only-of-type {\n",
       "        vertical-align: middle;\n",
       "    }\n",
       "\n",
       "    .dataframe tbody tr th {\n",
       "        vertical-align: top;\n",
       "    }\n",
       "\n",
       "    .dataframe thead th {\n",
       "        text-align: right;\n",
       "    }\n",
       "</style>\n",
       "<table border=\"1\" class=\"dataframe\">\n",
       "  <thead>\n",
       "    <tr style=\"text-align: right;\">\n",
       "      <th></th>\n",
       "      <th>District</th>\n",
       "      <th>year</th>\n",
       "      <th>Season</th>\n",
       "      <th>EVI_mean</th>\n",
       "      <th>NDVI_mean</th>\n",
       "      <th>SoilMoisture00_10cm_mean</th>\n",
       "      <th>SoilMoisture100_200cm_mean</th>\n",
       "      <th>SoilMoisture10_40cm_mean</th>\n",
       "      <th>SoilMoisture40_100cm_mean</th>\n",
       "      <th>SoilTemperature00_10cm_mean</th>\n",
       "      <th>...</th>\n",
       "      <th>precipitation_per_hour_v2_mean</th>\n",
       "      <th>rainfall_mean</th>\n",
       "      <th>surface_temperature_daytime_mean</th>\n",
       "      <th>surface_temperature_nighttime_mean</th>\n",
       "      <th>wind_speed_mean</th>\n",
       "      <th>SPEI_3month_lag1</th>\n",
       "      <th>drought_reported</th>\n",
       "      <th>drought_news_article</th>\n",
       "      <th>drought_desinventar</th>\n",
       "      <th>Is_drought</th>\n",
       "    </tr>\n",
       "  </thead>\n",
       "  <tbody>\n",
       "    <tr>\n",
       "      <td>0</td>\n",
       "      <td>ABIM</td>\n",
       "      <td>2000</td>\n",
       "      <td>11_12</td>\n",
       "      <td>0.635496</td>\n",
       "      <td>0.232554</td>\n",
       "      <td>0.876312</td>\n",
       "      <td>0.199678</td>\n",
       "      <td>0.736812</td>\n",
       "      <td>0.605763</td>\n",
       "      <td>-0.619369</td>\n",
       "      <td>...</td>\n",
       "      <td>-0.469460</td>\n",
       "      <td>1.336204</td>\n",
       "      <td>-0.151764</td>\n",
       "      <td>-1.343323</td>\n",
       "      <td>-0.412148</td>\n",
       "      <td>0.946693</td>\n",
       "      <td>0</td>\n",
       "      <td>0</td>\n",
       "      <td>0</td>\n",
       "      <td>False</td>\n",
       "    </tr>\n",
       "    <tr>\n",
       "      <td>1</td>\n",
       "      <td>ABIM</td>\n",
       "      <td>2001</td>\n",
       "      <td>11_12</td>\n",
       "      <td>-0.087761</td>\n",
       "      <td>-0.109488</td>\n",
       "      <td>0.493821</td>\n",
       "      <td>0.183495</td>\n",
       "      <td>0.532963</td>\n",
       "      <td>0.545170</td>\n",
       "      <td>-0.342333</td>\n",
       "      <td>...</td>\n",
       "      <td>-0.254581</td>\n",
       "      <td>0.823853</td>\n",
       "      <td>-0.334808</td>\n",
       "      <td>-0.132387</td>\n",
       "      <td>-1.004612</td>\n",
       "      <td>1.014671</td>\n",
       "      <td>0</td>\n",
       "      <td>0</td>\n",
       "      <td>0</td>\n",
       "      <td>False</td>\n",
       "    </tr>\n",
       "    <tr>\n",
       "      <td>2</td>\n",
       "      <td>ABIM</td>\n",
       "      <td>2002</td>\n",
       "      <td>11_12</td>\n",
       "      <td>-1.376630</td>\n",
       "      <td>-1.645360</td>\n",
       "      <td>-1.512378</td>\n",
       "      <td>-1.487177</td>\n",
       "      <td>-1.611315</td>\n",
       "      <td>-1.905963</td>\n",
       "      <td>1.363756</td>\n",
       "      <td>...</td>\n",
       "      <td>-1.405233</td>\n",
       "      <td>-0.482233</td>\n",
       "      <td>2.041320</td>\n",
       "      <td>0.780647</td>\n",
       "      <td>0.752253</td>\n",
       "      <td>0.714817</td>\n",
       "      <td>0</td>\n",
       "      <td>0</td>\n",
       "      <td>0</td>\n",
       "      <td>False</td>\n",
       "    </tr>\n",
       "    <tr>\n",
       "      <td>3</td>\n",
       "      <td>ABIM</td>\n",
       "      <td>2003</td>\n",
       "      <td>11_12</td>\n",
       "      <td>0.271856</td>\n",
       "      <td>0.277573</td>\n",
       "      <td>-0.653029</td>\n",
       "      <td>-0.338649</td>\n",
       "      <td>-0.424325</td>\n",
       "      <td>-0.103768</td>\n",
       "      <td>0.496371</td>\n",
       "      <td>...</td>\n",
       "      <td>-1.661421</td>\n",
       "      <td>-1.335585</td>\n",
       "      <td>0.161190</td>\n",
       "      <td>0.848854</td>\n",
       "      <td>1.321092</td>\n",
       "      <td>-1.517769</td>\n",
       "      <td>0</td>\n",
       "      <td>0</td>\n",
       "      <td>0</td>\n",
       "      <td>False</td>\n",
       "    </tr>\n",
       "    <tr>\n",
       "      <td>4</td>\n",
       "      <td>ABIM</td>\n",
       "      <td>2004</td>\n",
       "      <td>11_12</td>\n",
       "      <td>-0.947108</td>\n",
       "      <td>-1.454412</td>\n",
       "      <td>-1.207277</td>\n",
       "      <td>-0.974946</td>\n",
       "      <td>-0.705645</td>\n",
       "      <td>-0.739778</td>\n",
       "      <td>0.922325</td>\n",
       "      <td>...</td>\n",
       "      <td>-1.550847</td>\n",
       "      <td>-0.415216</td>\n",
       "      <td>0.949508</td>\n",
       "      <td>-0.042240</td>\n",
       "      <td>0.929712</td>\n",
       "      <td>0.386794</td>\n",
       "      <td>0</td>\n",
       "      <td>0</td>\n",
       "      <td>0</td>\n",
       "      <td>False</td>\n",
       "    </tr>\n",
       "  </tbody>\n",
       "</table>\n",
       "<p>5 rows × 26 columns</p>\n",
       "</div>"
      ],
      "text/plain": [
       "  District  year Season  EVI_mean  NDVI_mean  SoilMoisture00_10cm_mean  \\\n",
       "0     ABIM  2000  11_12  0.635496   0.232554                  0.876312   \n",
       "1     ABIM  2001  11_12 -0.087761  -0.109488                  0.493821   \n",
       "2     ABIM  2002  11_12 -1.376630  -1.645360                 -1.512378   \n",
       "3     ABIM  2003  11_12  0.271856   0.277573                 -0.653029   \n",
       "4     ABIM  2004  11_12 -0.947108  -1.454412                 -1.207277   \n",
       "\n",
       "   SoilMoisture100_200cm_mean  SoilMoisture10_40cm_mean  \\\n",
       "0                    0.199678                  0.736812   \n",
       "1                    0.183495                  0.532963   \n",
       "2                   -1.487177                 -1.611315   \n",
       "3                   -0.338649                 -0.424325   \n",
       "4                   -0.974946                 -0.705645   \n",
       "\n",
       "   SoilMoisture40_100cm_mean  SoilTemperature00_10cm_mean  ...  \\\n",
       "0                   0.605763                    -0.619369  ...   \n",
       "1                   0.545170                    -0.342333  ...   \n",
       "2                  -1.905963                     1.363756  ...   \n",
       "3                  -0.103768                     0.496371  ...   \n",
       "4                  -0.739778                     0.922325  ...   \n",
       "\n",
       "   precipitation_per_hour_v2_mean  rainfall_mean  \\\n",
       "0                       -0.469460       1.336204   \n",
       "1                       -0.254581       0.823853   \n",
       "2                       -1.405233      -0.482233   \n",
       "3                       -1.661421      -1.335585   \n",
       "4                       -1.550847      -0.415216   \n",
       "\n",
       "   surface_temperature_daytime_mean  surface_temperature_nighttime_mean  \\\n",
       "0                         -0.151764                           -1.343323   \n",
       "1                         -0.334808                           -0.132387   \n",
       "2                          2.041320                            0.780647   \n",
       "3                          0.161190                            0.848854   \n",
       "4                          0.949508                           -0.042240   \n",
       "\n",
       "   wind_speed_mean  SPEI_3month_lag1  drought_reported  drought_news_article  \\\n",
       "0        -0.412148          0.946693                 0                     0   \n",
       "1        -1.004612          1.014671                 0                     0   \n",
       "2         0.752253          0.714817                 0                     0   \n",
       "3         1.321092         -1.517769                 0                     0   \n",
       "4         0.929712          0.386794                 0                     0   \n",
       "\n",
       "   drought_desinventar  Is_drought  \n",
       "0                    0       False  \n",
       "1                    0       False  \n",
       "2                    0       False  \n",
       "3                    0       False  \n",
       "4                    0       False  \n",
       "\n",
       "[5 rows x 26 columns]"
      ]
     },
     "execution_count": 2,
     "metadata": {},
     "output_type": "execute_result"
    }
   ],
   "source": [
    "data = pd.read_csv('./datasets/Uganda_seasonal_normalized_mean.csv')\n",
    "data['Is_drought'] = data.drought_reported>0\n",
    "data.head()"
   ]
  },
  {
   "cell_type": "code",
   "execution_count": 3,
   "metadata": {},
   "outputs": [],
   "source": [
    "All_label_list = ['drought_reported', 'drought_news_article', 'drought_desinventar', 'Is_drought']\n",
    "\n",
    "label_name = 'Is_drought'\n",
    "\n",
    "All_feature_list = list(data.drop(labels=['District','year','Season']+All_label_list, \n",
    "                                  axis=1).columns)"
   ]
  },
  {
   "cell_type": "code",
   "execution_count": 4,
   "metadata": {},
   "outputs": [
    {
     "data": {
      "text/html": [
       "<div>\n",
       "<style scoped>\n",
       "    .dataframe tbody tr th:only-of-type {\n",
       "        vertical-align: middle;\n",
       "    }\n",
       "\n",
       "    .dataframe tbody tr th {\n",
       "        vertical-align: top;\n",
       "    }\n",
       "\n",
       "    .dataframe thead th {\n",
       "        text-align: right;\n",
       "    }\n",
       "</style>\n",
       "<table border=\"1\" class=\"dataframe\">\n",
       "  <thead>\n",
       "    <tr style=\"text-align: right;\">\n",
       "      <th></th>\n",
       "      <th>District</th>\n",
       "      <th>year</th>\n",
       "      <th>Season</th>\n",
       "      <th>EVI_mean</th>\n",
       "      <th>NDVI_mean</th>\n",
       "      <th>SoilMoisture00_10cm_mean</th>\n",
       "      <th>SoilMoisture100_200cm_mean</th>\n",
       "      <th>SoilMoisture10_40cm_mean</th>\n",
       "      <th>SoilMoisture40_100cm_mean</th>\n",
       "      <th>SoilTemperature00_10cm_mean</th>\n",
       "      <th>...</th>\n",
       "      <th>precipitation_per_hour_v2_mean</th>\n",
       "      <th>rainfall_mean</th>\n",
       "      <th>surface_temperature_daytime_mean</th>\n",
       "      <th>surface_temperature_nighttime_mean</th>\n",
       "      <th>wind_speed_mean</th>\n",
       "      <th>SPEI_3month_lag1</th>\n",
       "      <th>drought_reported</th>\n",
       "      <th>drought_news_article</th>\n",
       "      <th>drought_desinventar</th>\n",
       "      <th>Is_drought</th>\n",
       "    </tr>\n",
       "  </thead>\n",
       "  <tbody>\n",
       "    <tr>\n",
       "      <td>0</td>\n",
       "      <td>ABIM</td>\n",
       "      <td>2008</td>\n",
       "      <td>11_12</td>\n",
       "      <td>0.472112</td>\n",
       "      <td>0.433406</td>\n",
       "      <td>-0.299935</td>\n",
       "      <td>-0.401658</td>\n",
       "      <td>-0.513232</td>\n",
       "      <td>-0.373943</td>\n",
       "      <td>0.023236</td>\n",
       "      <td>...</td>\n",
       "      <td>0.410969</td>\n",
       "      <td>-1.040561</td>\n",
       "      <td>-0.863988</td>\n",
       "      <td>0.257548</td>\n",
       "      <td>-0.612212</td>\n",
       "      <td>-0.956344</td>\n",
       "      <td>0</td>\n",
       "      <td>0</td>\n",
       "      <td>0</td>\n",
       "      <td>False</td>\n",
       "    </tr>\n",
       "    <tr>\n",
       "      <td>1</td>\n",
       "      <td>ABIM</td>\n",
       "      <td>2008</td>\n",
       "      <td>6_7</td>\n",
       "      <td>-0.777660</td>\n",
       "      <td>-0.791877</td>\n",
       "      <td>-1.087030</td>\n",
       "      <td>-0.125215</td>\n",
       "      <td>-1.219722</td>\n",
       "      <td>-0.580102</td>\n",
       "      <td>0.439307</td>\n",
       "      <td>...</td>\n",
       "      <td>-1.185724</td>\n",
       "      <td>-1.264110</td>\n",
       "      <td>0.536434</td>\n",
       "      <td>-0.633266</td>\n",
       "      <td>0.620304</td>\n",
       "      <td>-1.891516</td>\n",
       "      <td>0</td>\n",
       "      <td>0</td>\n",
       "      <td>0</td>\n",
       "      <td>False</td>\n",
       "    </tr>\n",
       "    <tr>\n",
       "      <td>2</td>\n",
       "      <td>ABIM</td>\n",
       "      <td>2009</td>\n",
       "      <td>11_12</td>\n",
       "      <td>-0.959034</td>\n",
       "      <td>-0.776766</td>\n",
       "      <td>-1.828673</td>\n",
       "      <td>-1.776568</td>\n",
       "      <td>-2.402835</td>\n",
       "      <td>-2.509079</td>\n",
       "      <td>1.557044</td>\n",
       "      <td>...</td>\n",
       "      <td>-0.086266</td>\n",
       "      <td>-1.469191</td>\n",
       "      <td>0.695129</td>\n",
       "      <td>1.286431</td>\n",
       "      <td>0.241868</td>\n",
       "      <td>-0.076895</td>\n",
       "      <td>0</td>\n",
       "      <td>0</td>\n",
       "      <td>0</td>\n",
       "      <td>False</td>\n",
       "    </tr>\n",
       "    <tr>\n",
       "      <td>3</td>\n",
       "      <td>ABIM</td>\n",
       "      <td>2009</td>\n",
       "      <td>6_7</td>\n",
       "      <td>-0.120184</td>\n",
       "      <td>-0.124127</td>\n",
       "      <td>-0.739839</td>\n",
       "      <td>-0.331838</td>\n",
       "      <td>-0.530722</td>\n",
       "      <td>-0.566959</td>\n",
       "      <td>0.340174</td>\n",
       "      <td>...</td>\n",
       "      <td>-1.107978</td>\n",
       "      <td>-0.534604</td>\n",
       "      <td>-0.054718</td>\n",
       "      <td>0.841467</td>\n",
       "      <td>0.525038</td>\n",
       "      <td>-0.231664</td>\n",
       "      <td>1</td>\n",
       "      <td>0</td>\n",
       "      <td>1</td>\n",
       "      <td>True</td>\n",
       "    </tr>\n",
       "    <tr>\n",
       "      <td>4</td>\n",
       "      <td>ABIM</td>\n",
       "      <td>2010</td>\n",
       "      <td>11_12</td>\n",
       "      <td>-0.392718</td>\n",
       "      <td>-0.499785</td>\n",
       "      <td>0.371432</td>\n",
       "      <td>-0.556741</td>\n",
       "      <td>0.039433</td>\n",
       "      <td>0.004917</td>\n",
       "      <td>-0.270119</td>\n",
       "      <td>...</td>\n",
       "      <td>-0.157900</td>\n",
       "      <td>-0.071552</td>\n",
       "      <td>-0.416993</td>\n",
       "      <td>-0.514385</td>\n",
       "      <td>-0.869060</td>\n",
       "      <td>-0.565711</td>\n",
       "      <td>0</td>\n",
       "      <td>0</td>\n",
       "      <td>0</td>\n",
       "      <td>False</td>\n",
       "    </tr>\n",
       "    <tr>\n",
       "      <td>...</td>\n",
       "      <td>...</td>\n",
       "      <td>...</td>\n",
       "      <td>...</td>\n",
       "      <td>...</td>\n",
       "      <td>...</td>\n",
       "      <td>...</td>\n",
       "      <td>...</td>\n",
       "      <td>...</td>\n",
       "      <td>...</td>\n",
       "      <td>...</td>\n",
       "      <td>...</td>\n",
       "      <td>...</td>\n",
       "      <td>...</td>\n",
       "      <td>...</td>\n",
       "      <td>...</td>\n",
       "      <td>...</td>\n",
       "      <td>...</td>\n",
       "      <td>...</td>\n",
       "      <td>...</td>\n",
       "      <td>...</td>\n",
       "      <td>...</td>\n",
       "    </tr>\n",
       "    <tr>\n",
       "      <td>361</td>\n",
       "      <td>ZOMBO</td>\n",
       "      <td>2008</td>\n",
       "      <td>6_7</td>\n",
       "      <td>0.214773</td>\n",
       "      <td>0.153118</td>\n",
       "      <td>-1.859536</td>\n",
       "      <td>-1.198422</td>\n",
       "      <td>-2.015221</td>\n",
       "      <td>-1.832033</td>\n",
       "      <td>0.628148</td>\n",
       "      <td>...</td>\n",
       "      <td>-0.255114</td>\n",
       "      <td>-2.084574</td>\n",
       "      <td>-0.593314</td>\n",
       "      <td>-0.605235</td>\n",
       "      <td>-0.070227</td>\n",
       "      <td>-1.785325</td>\n",
       "      <td>0</td>\n",
       "      <td>0</td>\n",
       "      <td>0</td>\n",
       "      <td>False</td>\n",
       "    </tr>\n",
       "    <tr>\n",
       "      <td>362</td>\n",
       "      <td>ZOMBO</td>\n",
       "      <td>2009</td>\n",
       "      <td>11_12</td>\n",
       "      <td>-0.290805</td>\n",
       "      <td>-1.009758</td>\n",
       "      <td>-3.065165</td>\n",
       "      <td>-2.656704</td>\n",
       "      <td>-3.099320</td>\n",
       "      <td>-3.130685</td>\n",
       "      <td>1.730749</td>\n",
       "      <td>...</td>\n",
       "      <td>0.490798</td>\n",
       "      <td>-2.746914</td>\n",
       "      <td>1.026036</td>\n",
       "      <td>0.295994</td>\n",
       "      <td>1.210698</td>\n",
       "      <td>-1.801010</td>\n",
       "      <td>0</td>\n",
       "      <td>0</td>\n",
       "      <td>0</td>\n",
       "      <td>False</td>\n",
       "    </tr>\n",
       "    <tr>\n",
       "      <td>363</td>\n",
       "      <td>ZOMBO</td>\n",
       "      <td>2009</td>\n",
       "      <td>6_7</td>\n",
       "      <td>-0.834401</td>\n",
       "      <td>-0.756735</td>\n",
       "      <td>-1.599447</td>\n",
       "      <td>-1.240679</td>\n",
       "      <td>-1.664688</td>\n",
       "      <td>-1.524388</td>\n",
       "      <td>0.569586</td>\n",
       "      <td>...</td>\n",
       "      <td>-1.583708</td>\n",
       "      <td>-1.666039</td>\n",
       "      <td>0.581066</td>\n",
       "      <td>-0.022231</td>\n",
       "      <td>0.534914</td>\n",
       "      <td>-1.037791</td>\n",
       "      <td>1</td>\n",
       "      <td>0</td>\n",
       "      <td>1</td>\n",
       "      <td>True</td>\n",
       "    </tr>\n",
       "    <tr>\n",
       "      <td>364</td>\n",
       "      <td>ZOMBO</td>\n",
       "      <td>2010</td>\n",
       "      <td>11_12</td>\n",
       "      <td>1.429415</td>\n",
       "      <td>0.720226</td>\n",
       "      <td>0.280299</td>\n",
       "      <td>0.131955</td>\n",
       "      <td>0.266445</td>\n",
       "      <td>0.234409</td>\n",
       "      <td>-0.131787</td>\n",
       "      <td>...</td>\n",
       "      <td>-0.062517</td>\n",
       "      <td>0.635184</td>\n",
       "      <td>1.113469</td>\n",
       "      <td>-1.335018</td>\n",
       "      <td>-0.370430</td>\n",
       "      <td>0.534852</td>\n",
       "      <td>0</td>\n",
       "      <td>0</td>\n",
       "      <td>0</td>\n",
       "      <td>False</td>\n",
       "    </tr>\n",
       "    <tr>\n",
       "      <td>365</td>\n",
       "      <td>ZOMBO</td>\n",
       "      <td>2010</td>\n",
       "      <td>6_7</td>\n",
       "      <td>1.068538</td>\n",
       "      <td>1.218802</td>\n",
       "      <td>-0.186872</td>\n",
       "      <td>-1.965753</td>\n",
       "      <td>-0.708289</td>\n",
       "      <td>-1.250340</td>\n",
       "      <td>-0.192126</td>\n",
       "      <td>...</td>\n",
       "      <td>-1.397401</td>\n",
       "      <td>0.082672</td>\n",
       "      <td>0.108624</td>\n",
       "      <td>0.695991</td>\n",
       "      <td>1.084887</td>\n",
       "      <td>0.432982</td>\n",
       "      <td>0</td>\n",
       "      <td>0</td>\n",
       "      <td>0</td>\n",
       "      <td>False</td>\n",
       "    </tr>\n",
       "  </tbody>\n",
       "</table>\n",
       "<p>366 rows × 26 columns</p>\n",
       "</div>"
      ],
      "text/plain": [
       "    District  year Season  EVI_mean  NDVI_mean  SoilMoisture00_10cm_mean  \\\n",
       "0       ABIM  2008  11_12  0.472112   0.433406                 -0.299935   \n",
       "1       ABIM  2008    6_7 -0.777660  -0.791877                 -1.087030   \n",
       "2       ABIM  2009  11_12 -0.959034  -0.776766                 -1.828673   \n",
       "3       ABIM  2009    6_7 -0.120184  -0.124127                 -0.739839   \n",
       "4       ABIM  2010  11_12 -0.392718  -0.499785                  0.371432   \n",
       "..       ...   ...    ...       ...        ...                       ...   \n",
       "361    ZOMBO  2008    6_7  0.214773   0.153118                 -1.859536   \n",
       "362    ZOMBO  2009  11_12 -0.290805  -1.009758                 -3.065165   \n",
       "363    ZOMBO  2009    6_7 -0.834401  -0.756735                 -1.599447   \n",
       "364    ZOMBO  2010  11_12  1.429415   0.720226                  0.280299   \n",
       "365    ZOMBO  2010    6_7  1.068538   1.218802                 -0.186872   \n",
       "\n",
       "     SoilMoisture100_200cm_mean  SoilMoisture10_40cm_mean  \\\n",
       "0                     -0.401658                 -0.513232   \n",
       "1                     -0.125215                 -1.219722   \n",
       "2                     -1.776568                 -2.402835   \n",
       "3                     -0.331838                 -0.530722   \n",
       "4                     -0.556741                  0.039433   \n",
       "..                          ...                       ...   \n",
       "361                   -1.198422                 -2.015221   \n",
       "362                   -2.656704                 -3.099320   \n",
       "363                   -1.240679                 -1.664688   \n",
       "364                    0.131955                  0.266445   \n",
       "365                   -1.965753                 -0.708289   \n",
       "\n",
       "     SoilMoisture40_100cm_mean  SoilTemperature00_10cm_mean  ...  \\\n",
       "0                    -0.373943                     0.023236  ...   \n",
       "1                    -0.580102                     0.439307  ...   \n",
       "2                    -2.509079                     1.557044  ...   \n",
       "3                    -0.566959                     0.340174  ...   \n",
       "4                     0.004917                    -0.270119  ...   \n",
       "..                         ...                          ...  ...   \n",
       "361                  -1.832033                     0.628148  ...   \n",
       "362                  -3.130685                     1.730749  ...   \n",
       "363                  -1.524388                     0.569586  ...   \n",
       "364                   0.234409                    -0.131787  ...   \n",
       "365                  -1.250340                    -0.192126  ...   \n",
       "\n",
       "     precipitation_per_hour_v2_mean  rainfall_mean  \\\n",
       "0                          0.410969      -1.040561   \n",
       "1                         -1.185724      -1.264110   \n",
       "2                         -0.086266      -1.469191   \n",
       "3                         -1.107978      -0.534604   \n",
       "4                         -0.157900      -0.071552   \n",
       "..                              ...            ...   \n",
       "361                       -0.255114      -2.084574   \n",
       "362                        0.490798      -2.746914   \n",
       "363                       -1.583708      -1.666039   \n",
       "364                       -0.062517       0.635184   \n",
       "365                       -1.397401       0.082672   \n",
       "\n",
       "     surface_temperature_daytime_mean  surface_temperature_nighttime_mean  \\\n",
       "0                           -0.863988                            0.257548   \n",
       "1                            0.536434                           -0.633266   \n",
       "2                            0.695129                            1.286431   \n",
       "3                           -0.054718                            0.841467   \n",
       "4                           -0.416993                           -0.514385   \n",
       "..                                ...                                 ...   \n",
       "361                         -0.593314                           -0.605235   \n",
       "362                          1.026036                            0.295994   \n",
       "363                          0.581066                           -0.022231   \n",
       "364                          1.113469                           -1.335018   \n",
       "365                          0.108624                            0.695991   \n",
       "\n",
       "     wind_speed_mean  SPEI_3month_lag1  drought_reported  \\\n",
       "0          -0.612212         -0.956344                 0   \n",
       "1           0.620304         -1.891516                 0   \n",
       "2           0.241868         -0.076895                 0   \n",
       "3           0.525038         -0.231664                 1   \n",
       "4          -0.869060         -0.565711                 0   \n",
       "..               ...               ...               ...   \n",
       "361        -0.070227         -1.785325                 0   \n",
       "362         1.210698         -1.801010                 0   \n",
       "363         0.534914         -1.037791                 1   \n",
       "364        -0.370430          0.534852                 0   \n",
       "365         1.084887          0.432982                 0   \n",
       "\n",
       "     drought_news_article  drought_desinventar  Is_drought  \n",
       "0                       0                    0       False  \n",
       "1                       0                    0       False  \n",
       "2                       0                    0       False  \n",
       "3                       0                    1        True  \n",
       "4                       0                    0       False  \n",
       "..                    ...                  ...         ...  \n",
       "361                     0                    0       False  \n",
       "362                     0                    0       False  \n",
       "363                     0                    1        True  \n",
       "364                     0                    0       False  \n",
       "365                     0                    0       False  \n",
       "\n",
       "[366 rows x 26 columns]"
      ]
     },
     "execution_count": 4,
     "metadata": {},
     "output_type": "execute_result"
    }
   ],
   "source": [
    "reduced_data = pd.DataFrame()\n",
    "\n",
    "for name,group in data.groupby('District'):\n",
    "    drought_years = np.array(group[group[label_name]]['year'])\n",
    "    keep_years = np.sort(np.unique(np.append(drought_years, [drought_years-1, drought_years+1])))\n",
    "    temp = group[group.year.apply(lambda x: x in keep_years)].sort_values(by=['year', 'Season']).copy()\n",
    "    reduced_data = pd.concat([reduced_data, temp])\n",
    "\n",
    "reduced_data.reset_index(drop=True,inplace=True)\n",
    "\n",
    "reduced_data"
   ]
  },
  {
   "cell_type": "code",
   "execution_count": 5,
   "metadata": {
    "scrolled": false
   },
   "outputs": [
    {
     "data": {
      "image/png": "[encoded data removed]",
      "text/plain": [
       "<Figure size 432x288 with 1 Axes>"
      ]
     },
     "metadata": {
      "needs_background": "light"
     },
     "output_type": "display_data"
    },
    {
     "data": {
      "image/png": "[encoded data removed]",
      "text/plain": [
       "<Figure size 432x288 with 1 Axes>"
      ]
     },
     "metadata": {
      "needs_background": "light"
     },
     "output_type": "display_data"
    },
    {
     "data": {
      "image/png": "[encoded data removed]",
      "text/plain": [
       "<Figure size 432x288 with 1 Axes>"
      ]
     },
     "metadata": {
      "needs_background": "light"
     },
     "output_type": "display_data"
    },
    {
     "data": {
      "image/png": "[encoded data removed]",
      "text/plain": [
       "<Figure size 432x288 with 1 Axes>"
      ]
     },
     "metadata": {
      "needs_background": "light"
     },
     "output_type": "display_data"
    },
    {
     "data": {
      "image/png": "[encoded data removed]",
      "text/plain": [
       "<Figure size 432x288 with 1 Axes>"
      ]
     },
     "metadata": {
      "needs_background": "light"
     },
     "output_type": "display_data"
    },
    {
     "data": {
      "image/png": "[encoded data removed]",
      "text/plain": [
       "<Figure size 432x288 with 1 Axes>"
      ]
     },
     "metadata": {
      "needs_background": "light"
     },
     "output_type": "display_data"
    },
    {
     "data": {
      "image/png": "[encoded data removed]",
      "text/plain": [
       "<Figure size 432x288 with 1 Axes>"
      ]
     },
     "metadata": {
      "needs_background": "light"
     },
     "output_type": "display_data"
    },
    {
     "data": {
      "image/png": "[encoded data removed]",
      "text/plain": [
       "<Figure size 432x288 with 1 Axes>"
      ]
     },
     "metadata": {
      "needs_background": "light"
     },
     "output_type": "display_data"
    },
    {
     "data": {
      "image/png": "[encoded data removed]",
      "text/plain": [
       "<Figure size 432x288 with 1 Axes>"
      ]
     },
     "metadata": {
      "needs_background": "light"
     },
     "output_type": "display_data"
    },
    {
     "data": {
      "image/png": "[encoded data removed]",
      "text/plain": [
       "<Figure size 432x288 with 1 Axes>"
      ]
     },
     "metadata": {
      "needs_background": "light"
     },
     "output_type": "display_data"
    },
    {
     "data": {
      "image/png": "[encoded data removed]",
      "text/plain": [
       "<Figure size 432x288 with 1 Axes>"
      ]
     },
     "metadata": {
      "needs_background": "light"
     },
     "output_type": "display_data"
    },
    {
     "data": {
      "image/png": "[encoded data removed]",
      "text/plain": [
       "<Figure size 432x288 with 1 Axes>"
      ]
     },
     "metadata": {
      "needs_background": "light"
     },
     "output_type": "display_data"
    },
    {
     "data": {
      "image/png": "[encoded data removed]",
      "text/plain": [
       "<Figure size 432x288 with 1 Axes>"
      ]
     },
     "metadata": {
      "needs_background": "light"
     },
     "output_type": "display_data"
    },
    {
     "data": {
      "image/png": "[encoded data removed]",
      "text/plain": [
       "<Figure size 432x288 with 1 Axes>"
      ]
     },
     "metadata": {
      "needs_background": "light"
     },
     "output_type": "display_data"
    },
    {
     "data": {
      "image/png": "[encoded data removed]",
      "text/plain": [
       "<Figure size 432x288 with 1 Axes>"
      ]
     },
     "metadata": {
      "needs_background": "light"
     },
     "output_type": "display_data"
    },
    {
     "data": {
      "image/png": "[encoded data removed]",
      "text/plain": [
       "<Figure size 432x288 with 1 Axes>"
      ]
     },
     "metadata": {
      "needs_background": "light"
     },
     "output_type": "display_data"
    },
    {
     "data": {
      "image/png": "[encoded data removed]",
      "text/plain": [
       "<Figure size 432x288 with 1 Axes>"
      ]
     },
     "metadata": {
      "needs_background": "light"
     },
     "output_type": "display_data"
    },
    {
     "data": {
      "image/png": "[encoded data removed]",
      "text/plain": [
       "<Figure size 432x288 with 1 Axes>"
      ]
     },
     "metadata": {
      "needs_background": "light"
     },
     "output_type": "display_data"
    },
    {
     "data": {
      "image/png": "[encoded data removed]",
      "text/plain": [
       "<Figure size 432x288 with 1 Axes>"
      ]
     },
     "metadata": {
      "needs_background": "light"
     },
     "output_type": "display_data"
    }
   ],
   "source": [
    "for col in All_feature_list:\n",
    "    plt.figure()\n",
    "    sns.boxenplot(x=label_name,y=col,data=reduced_data)\n",
    "    "
   ]
  },
  {
   "cell_type": "code",
   "execution_count": 38,
   "metadata": {
    "scrolled": true
   },
   "outputs": [
    {
     "data": {
      "text/html": [
       "<div>\n",
       "<style scoped>\n",
       "    .dataframe tbody tr th:only-of-type {\n",
       "        vertical-align: middle;\n",
       "    }\n",
       "\n",
       "    .dataframe tbody tr th {\n",
       "        vertical-align: top;\n",
       "    }\n",
       "\n",
       "    .dataframe thead th {\n",
       "        text-align: right;\n",
       "    }\n",
       "</style>\n",
       "<table border=\"1\" class=\"dataframe\">\n",
       "  <thead>\n",
       "    <tr style=\"text-align: right;\">\n",
       "      <th>Is_drought</th>\n",
       "      <th>index</th>\n",
       "      <th>no_drought</th>\n",
       "      <th>yes_drought</th>\n",
       "      <th>diff</th>\n",
       "    </tr>\n",
       "  </thead>\n",
       "  <tbody>\n",
       "    <tr>\n",
       "      <td>21</td>\n",
       "      <td>drought_desinventar</td>\n",
       "      <td>0.000000</td>\n",
       "      <td>1.000000</td>\n",
       "      <td>1.000000</td>\n",
       "    </tr>\n",
       "    <tr>\n",
       "      <td>19</td>\n",
       "      <td>drought_reported</td>\n",
       "      <td>0.000000</td>\n",
       "      <td>1.000000</td>\n",
       "      <td>1.000000</td>\n",
       "    </tr>\n",
       "    <tr>\n",
       "      <td>2</td>\n",
       "      <td>SoilMoisture00_10cm_mean</td>\n",
       "      <td>0.288314</td>\n",
       "      <td>-0.570226</td>\n",
       "      <td>0.858541</td>\n",
       "    </tr>\n",
       "    <tr>\n",
       "      <td>5</td>\n",
       "      <td>SoilMoisture40_100cm_mean</td>\n",
       "      <td>0.232961</td>\n",
       "      <td>-0.531513</td>\n",
       "      <td>0.764474</td>\n",
       "    </tr>\n",
       "    <tr>\n",
       "      <td>13</td>\n",
       "      <td>precipitation_per_hour_v2_mean</td>\n",
       "      <td>0.063213</td>\n",
       "      <td>-0.698218</td>\n",
       "      <td>0.761430</td>\n",
       "    </tr>\n",
       "    <tr>\n",
       "      <td>4</td>\n",
       "      <td>SoilMoisture10_40cm_mean</td>\n",
       "      <td>0.222095</td>\n",
       "      <td>-0.530722</td>\n",
       "      <td>0.752817</td>\n",
       "    </tr>\n",
       "    <tr>\n",
       "      <td>14</td>\n",
       "      <td>rainfall_mean</td>\n",
       "      <td>0.176996</td>\n",
       "      <td>-0.486975</td>\n",
       "      <td>0.663971</td>\n",
       "    </tr>\n",
       "    <tr>\n",
       "      <td>11</td>\n",
       "      <td>evapotranspiration_mean</td>\n",
       "      <td>0.044880</td>\n",
       "      <td>-0.602795</td>\n",
       "      <td>0.647675</td>\n",
       "    </tr>\n",
       "    <tr>\n",
       "      <td>9</td>\n",
       "      <td>SoilTemperature40_100cm_mean</td>\n",
       "      <td>-0.236434</td>\n",
       "      <td>0.361192</td>\n",
       "      <td>0.597626</td>\n",
       "    </tr>\n",
       "    <tr>\n",
       "      <td>7</td>\n",
       "      <td>SoilTemperature100_200cm_mean</td>\n",
       "      <td>-0.244349</td>\n",
       "      <td>0.320006</td>\n",
       "      <td>0.564355</td>\n",
       "    </tr>\n",
       "    <tr>\n",
       "      <td>8</td>\n",
       "      <td>SoilTemperature10_40cm_mean</td>\n",
       "      <td>-0.215548</td>\n",
       "      <td>0.302455</td>\n",
       "      <td>0.518002</td>\n",
       "    </tr>\n",
       "    <tr>\n",
       "      <td>6</td>\n",
       "      <td>SoilTemperature00_10cm_mean</td>\n",
       "      <td>-0.165643</td>\n",
       "      <td>0.340174</td>\n",
       "      <td>0.505817</td>\n",
       "    </tr>\n",
       "    <tr>\n",
       "      <td>0</td>\n",
       "      <td>EVI_mean</td>\n",
       "      <td>0.221652</td>\n",
       "      <td>-0.196214</td>\n",
       "      <td>0.417865</td>\n",
       "    </tr>\n",
       "    <tr>\n",
       "      <td>18</td>\n",
       "      <td>SPEI_3month_lag1</td>\n",
       "      <td>0.211545</td>\n",
       "      <td>-0.192696</td>\n",
       "      <td>0.404242</td>\n",
       "    </tr>\n",
       "    <tr>\n",
       "      <td>17</td>\n",
       "      <td>wind_speed_mean</td>\n",
       "      <td>-0.057616</td>\n",
       "      <td>0.329311</td>\n",
       "      <td>0.386927</td>\n",
       "    </tr>\n",
       "    <tr>\n",
       "      <td>12</td>\n",
       "      <td>precipitation_per_hour_v1_mean</td>\n",
       "      <td>-0.221708</td>\n",
       "      <td>-0.549282</td>\n",
       "      <td>0.327573</td>\n",
       "    </tr>\n",
       "    <tr>\n",
       "      <td>3</td>\n",
       "      <td>SoilMoisture100_200cm_mean</td>\n",
       "      <td>0.025607</td>\n",
       "      <td>-0.292951</td>\n",
       "      <td>0.318558</td>\n",
       "    </tr>\n",
       "    <tr>\n",
       "      <td>1</td>\n",
       "      <td>NDVI_mean</td>\n",
       "      <td>0.153118</td>\n",
       "      <td>-0.127157</td>\n",
       "      <td>0.280275</td>\n",
       "    </tr>\n",
       "    <tr>\n",
       "      <td>15</td>\n",
       "      <td>surface_temperature_daytime_mean</td>\n",
       "      <td>-0.099960</td>\n",
       "      <td>0.155518</td>\n",
       "      <td>0.255478</td>\n",
       "    </tr>\n",
       "    <tr>\n",
       "      <td>10</td>\n",
       "      <td>air_temperature_mean</td>\n",
       "      <td>-0.167806</td>\n",
       "      <td>0.028358</td>\n",
       "      <td>0.196164</td>\n",
       "    </tr>\n",
       "    <tr>\n",
       "      <td>16</td>\n",
       "      <td>surface_temperature_nighttime_mean</td>\n",
       "      <td>0.093176</td>\n",
       "      <td>0.235946</td>\n",
       "      <td>0.142769</td>\n",
       "    </tr>\n",
       "    <tr>\n",
       "      <td>20</td>\n",
       "      <td>drought_news_article</td>\n",
       "      <td>0.000000</td>\n",
       "      <td>0.000000</td>\n",
       "      <td>0.000000</td>\n",
       "    </tr>\n",
       "  </tbody>\n",
       "</table>\n",
       "</div>"
      ],
      "text/plain": [
       "Is_drought                               index  no_drought  yes_drought  \\\n",
       "21                         drought_desinventar    0.000000     1.000000   \n",
       "19                            drought_reported    0.000000     1.000000   \n",
       "2                     SoilMoisture00_10cm_mean    0.288314    -0.570226   \n",
       "5                    SoilMoisture40_100cm_mean    0.232961    -0.531513   \n",
       "13              precipitation_per_hour_v2_mean    0.063213    -0.698218   \n",
       "4                     SoilMoisture10_40cm_mean    0.222095    -0.530722   \n",
       "14                               rainfall_mean    0.176996    -0.486975   \n",
       "11                     evapotranspiration_mean    0.044880    -0.602795   \n",
       "9                 SoilTemperature40_100cm_mean   -0.236434     0.361192   \n",
       "7                SoilTemperature100_200cm_mean   -0.244349     0.320006   \n",
       "8                  SoilTemperature10_40cm_mean   -0.215548     0.302455   \n",
       "6                  SoilTemperature00_10cm_mean   -0.165643     0.340174   \n",
       "0                                     EVI_mean    0.221652    -0.196214   \n",
       "18                            SPEI_3month_lag1    0.211545    -0.192696   \n",
       "17                             wind_speed_mean   -0.057616     0.329311   \n",
       "12              precipitation_per_hour_v1_mean   -0.221708    -0.549282   \n",
       "3                   SoilMoisture100_200cm_mean    0.025607    -0.292951   \n",
       "1                                    NDVI_mean    0.153118    -0.127157   \n",
       "15            surface_temperature_daytime_mean   -0.099960     0.155518   \n",
       "10                        air_temperature_mean   -0.167806     0.028358   \n",
       "16          surface_temperature_nighttime_mean    0.093176     0.235946   \n",
       "20                        drought_news_article    0.000000     0.000000   \n",
       "\n",
       "Is_drought      diff  \n",
       "21          1.000000  \n",
       "19          1.000000  \n",
       "2           0.858541  \n",
       "5           0.764474  \n",
       "13          0.761430  \n",
       "4           0.752817  \n",
       "14          0.663971  \n",
       "11          0.647675  \n",
       "9           0.597626  \n",
       "7           0.564355  \n",
       "8           0.518002  \n",
       "6           0.505817  \n",
       "0           0.417865  \n",
       "18          0.404242  \n",
       "17          0.386927  \n",
       "12          0.327573  \n",
       "3           0.318558  \n",
       "1           0.280275  \n",
       "15          0.255478  \n",
       "10          0.196164  \n",
       "16          0.142769  \n",
       "20          0.000000  "
      ]
     },
     "execution_count": 38,
     "metadata": {},
     "output_type": "execute_result"
    }
   ],
   "source": [
    "median_vals = reduced_data.drop(labels='year',axis=1).groupby(label_name).median().T.reset_index()\n",
    "median_vals.rename(columns={True:'yes_drought', False:'no_drought', 'Is_drought':'index'}, inplace= True)\n",
    "median_vals['diff'] = (median_vals['yes_drought']-median_vals['no_drought']).abs()\n",
    "median_vals.sort_values('diff',ascending=False,inplace=True)\n",
    "median_vals"
   ]
  },
  {
   "cell_type": "code",
   "execution_count": 39,
   "metadata": {},
   "outputs": [
    {
     "name": "stdout",
     "output_type": "stream",
     "text": [
      "(366, 12)\n"
     ]
    },
    {
     "data": {
      "text/html": [
       "<div>\n",
       "<style scoped>\n",
       "    .dataframe tbody tr th:only-of-type {\n",
       "        vertical-align: middle;\n",
       "    }\n",
       "\n",
       "    .dataframe tbody tr th {\n",
       "        vertical-align: top;\n",
       "    }\n",
       "\n",
       "    .dataframe thead th {\n",
       "        text-align: right;\n",
       "    }\n",
       "</style>\n",
       "<table border=\"1\" class=\"dataframe\">\n",
       "  <thead>\n",
       "    <tr style=\"text-align: right;\">\n",
       "      <th></th>\n",
       "      <th>District</th>\n",
       "      <th>year</th>\n",
       "      <th>Season</th>\n",
       "      <th>EVI_mean</th>\n",
       "      <th>SoilMoisture00_10cm_mean</th>\n",
       "      <th>SoilMoisture10_40cm_mean</th>\n",
       "      <th>SoilTemperature00_10cm_mean</th>\n",
       "      <th>SoilTemperature10_40cm_mean</th>\n",
       "      <th>precipitation_per_hour_v2_mean</th>\n",
       "      <th>surface_temperature_daytime_mean</th>\n",
       "      <th>SPEI_3month_lag1</th>\n",
       "      <th>Is_drought</th>\n",
       "    </tr>\n",
       "  </thead>\n",
       "  <tbody>\n",
       "    <tr>\n",
       "      <td>0</td>\n",
       "      <td>ABIM</td>\n",
       "      <td>2008</td>\n",
       "      <td>11_12</td>\n",
       "      <td>0.472112</td>\n",
       "      <td>-0.299935</td>\n",
       "      <td>-0.513232</td>\n",
       "      <td>0.023236</td>\n",
       "      <td>-0.000761</td>\n",
       "      <td>0.410969</td>\n",
       "      <td>-0.863988</td>\n",
       "      <td>-0.956344</td>\n",
       "      <td>False</td>\n",
       "    </tr>\n",
       "    <tr>\n",
       "      <td>1</td>\n",
       "      <td>ABIM</td>\n",
       "      <td>2008</td>\n",
       "      <td>6_7</td>\n",
       "      <td>-0.777660</td>\n",
       "      <td>-1.087030</td>\n",
       "      <td>-1.219722</td>\n",
       "      <td>0.439307</td>\n",
       "      <td>0.199290</td>\n",
       "      <td>-1.185724</td>\n",
       "      <td>0.536434</td>\n",
       "      <td>-1.891516</td>\n",
       "      <td>False</td>\n",
       "    </tr>\n",
       "    <tr>\n",
       "      <td>2</td>\n",
       "      <td>ABIM</td>\n",
       "      <td>2009</td>\n",
       "      <td>11_12</td>\n",
       "      <td>-0.959034</td>\n",
       "      <td>-1.828673</td>\n",
       "      <td>-2.402835</td>\n",
       "      <td>1.557044</td>\n",
       "      <td>1.822465</td>\n",
       "      <td>-0.086266</td>\n",
       "      <td>0.695129</td>\n",
       "      <td>-0.076895</td>\n",
       "      <td>False</td>\n",
       "    </tr>\n",
       "    <tr>\n",
       "      <td>3</td>\n",
       "      <td>ABIM</td>\n",
       "      <td>2009</td>\n",
       "      <td>6_7</td>\n",
       "      <td>-0.120184</td>\n",
       "      <td>-0.739839</td>\n",
       "      <td>-0.530722</td>\n",
       "      <td>0.340174</td>\n",
       "      <td>0.370177</td>\n",
       "      <td>-1.107978</td>\n",
       "      <td>-0.054718</td>\n",
       "      <td>-0.231664</td>\n",
       "      <td>True</td>\n",
       "    </tr>\n",
       "    <tr>\n",
       "      <td>4</td>\n",
       "      <td>ABIM</td>\n",
       "      <td>2010</td>\n",
       "      <td>11_12</td>\n",
       "      <td>-0.392718</td>\n",
       "      <td>0.371432</td>\n",
       "      <td>0.039433</td>\n",
       "      <td>-0.270119</td>\n",
       "      <td>-0.319993</td>\n",
       "      <td>-0.157900</td>\n",
       "      <td>-0.416993</td>\n",
       "      <td>-0.565711</td>\n",
       "      <td>False</td>\n",
       "    </tr>\n",
       "  </tbody>\n",
       "</table>\n",
       "</div>"
      ],
      "text/plain": [
       "  District  year Season  EVI_mean  SoilMoisture00_10cm_mean  \\\n",
       "0     ABIM  2008  11_12  0.472112                 -0.299935   \n",
       "1     ABIM  2008    6_7 -0.777660                 -1.087030   \n",
       "2     ABIM  2009  11_12 -0.959034                 -1.828673   \n",
       "3     ABIM  2009    6_7 -0.120184                 -0.739839   \n",
       "4     ABIM  2010  11_12 -0.392718                  0.371432   \n",
       "\n",
       "   SoilMoisture10_40cm_mean  SoilTemperature00_10cm_mean  \\\n",
       "0                 -0.513232                     0.023236   \n",
       "1                 -1.219722                     0.439307   \n",
       "2                 -2.402835                     1.557044   \n",
       "3                 -0.530722                     0.340174   \n",
       "4                  0.039433                    -0.270119   \n",
       "\n",
       "   SoilTemperature10_40cm_mean  precipitation_per_hour_v2_mean  \\\n",
       "0                    -0.000761                        0.410969   \n",
       "1                     0.199290                       -1.185724   \n",
       "2                     1.822465                       -0.086266   \n",
       "3                     0.370177                       -1.107978   \n",
       "4                    -0.319993                       -0.157900   \n",
       "\n",
       "   surface_temperature_daytime_mean  SPEI_3month_lag1  Is_drought  \n",
       "0                         -0.863988         -0.956344       False  \n",
       "1                          0.536434         -1.891516       False  \n",
       "2                          0.695129         -0.076895       False  \n",
       "3                         -0.054718         -0.231664        True  \n",
       "4                         -0.416993         -0.565711       False  "
      ]
     },
     "execution_count": 39,
     "metadata": {},
     "output_type": "execute_result"
    }
   ],
   "source": [
    "features_2_drop = ['NDVI_mean','SoilMoisture40_100cm_mean','SoilMoisture100_200cm_mean',\n",
    "                  'air_temperature_mean','evapotranspiration_mean','precipitation_per_hour_v1_mean',\n",
    "                  'rainfall_mean','surface_temperature_nighttime_mean','wind_speed_mean',\n",
    "                  'SoilTemperature40_100cm_mean','SoilTemperature100_200cm_mean']\n",
    "\n",
    "\n",
    "labels_2_drop = ['drought_reported', 'drought_news_article', 'drought_desinventar']\n",
    "\n",
    "selected_data = reduced_data.drop(labels=features_2_drop+labels_2_drop,axis=1).copy()\n",
    "\n",
    "print(selected_data.shape)\n",
    "\n",
    "selected_features = list(set(selected_data.columns).intersection(All_feature_list))\n",
    "\n",
    "selected_features.sort()\n",
    "\n",
    "selected_data.head()\n",
    "\n"
   ]
  },
  {
   "cell_type": "code",
   "execution_count": 40,
   "metadata": {},
   "outputs": [
    {
     "data": {
      "text/plain": [
       "65"
      ]
     },
     "execution_count": 40,
     "metadata": {},
     "output_type": "execute_result"
    }
   ],
   "source": [
    "selected_data[label_name].sum()"
   ]
  },
  {
   "cell_type": "code",
   "execution_count": 41,
   "metadata": {},
   "outputs": [
    {
     "data": {
      "text/plain": [
       "['EVI_mean',\n",
       " 'SPEI_3month_lag1',\n",
       " 'SoilMoisture00_10cm_mean',\n",
       " 'SoilMoisture10_40cm_mean',\n",
       " 'SoilTemperature00_10cm_mean',\n",
       " 'SoilTemperature10_40cm_mean',\n",
       " 'precipitation_per_hour_v2_mean',\n",
       " 'surface_temperature_daytime_mean']"
      ]
     },
     "execution_count": 41,
     "metadata": {},
     "output_type": "execute_result"
    }
   ],
   "source": [
    "selected_features"
   ]
  },
  {
   "cell_type": "code",
   "execution_count": 42,
   "metadata": {
    "scrolled": false
   },
   "outputs": [
    {
     "data": {
      "image/png": "[encoded data removed]",
      "text/plain": [
       "<Figure size 432x288 with 1 Axes>"
      ]
     },
     "metadata": {
      "needs_background": "light"
     },
     "output_type": "display_data"
    },
    {
     "data": {
      "image/png": "[encoded data removed]",
      "text/plain": [
       "<Figure size 432x288 with 1 Axes>"
      ]
     },
     "metadata": {
      "needs_background": "light"
     },
     "output_type": "display_data"
    },
    {
     "data": {
      "image/png": "[encoded data removed]",
      "text/plain": [
       "<Figure size 432x288 with 1 Axes>"
      ]
     },
     "metadata": {
      "needs_background": "light"
     },
     "output_type": "display_data"
    },
    {
     "data": {
      "image/png": "[encoded data removed]",
      "text/plain": [
       "<Figure size 432x288 with 1 Axes>"
      ]
     },
     "metadata": {
      "needs_background": "light"
     },
     "output_type": "display_data"
    },
    {
     "data": {
      "image/png": "[encoded data removed]",
      "text/plain": [
       "<Figure size 432x288 with 1 Axes>"
      ]
     },
     "metadata": {
      "needs_background": "light"
     },
     "output_type": "display_data"
    },
    {
     "data": {
      "image/png": "[encoded data removed]",
      "text/plain": [
       "<Figure size 432x288 with 1 Axes>"
      ]
     },
     "metadata": {
      "needs_background": "light"
     },
     "output_type": "display_data"
    },
    {
     "data": {
      "image/png": "[encoded data removed]",
      "text/plain": [
       "<Figure size 432x288 with 1 Axes>"
      ]
     },
     "metadata": {
      "needs_background": "light"
     },
     "output_type": "display_data"
    },
    {
     "data": {
      "image/png": "[encoded data removed]",
      "text/plain": [
       "<Figure size 432x288 with 1 Axes>"
      ]
     },
     "metadata": {
      "needs_background": "light"
     },
     "output_type": "display_data"
    }
   ],
   "source": [
    "for col in selected_features:\n",
    "    plt.figure()\n",
    "    sns.boxenplot(x=label_name,y=col,data=reduced_data)\n",
    "    "
   ]
  },
  {
   "cell_type": "code",
   "execution_count": null,
   "metadata": {},
   "outputs": [],
   "source": []
  }
 ],
 "metadata": {
  "kernelspec": {
   "display_name": "Python 3",
   "language": "python",
   "name": "python3"
  },
  "language_info": {
   "codemirror_mode": {
    "name": "ipython",
    "version": 3
   },
   "file_extension": ".py",
   "mimetype": "text/x-python",
   "name": "python",
   "nbconvert_exporter": "python",
   "pygments_lexer": "ipython3",
   "version": "3.7.4"
  }
 },
 "nbformat": 4,
 "nbformat_minor": 2
}
